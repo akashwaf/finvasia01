{
  "nbformat": 4,
  "nbformat_minor": 0,
  "metadata": {
    "colab": {
      "provenance": [],
      "authorship_tag": "ABX9TyP4Tq5tzvv7XCpFp5fMGbvk",
      "include_colab_link": true
    },
    "kernelspec": {
      "name": "python3",
      "display_name": "Python 3"
    },
    "language_info": {
      "name": "python"
    }
  },
  "cells": [
    {
      "cell_type": "markdown",
      "metadata": {
        "id": "view-in-github",
        "colab_type": "text"
      },
      "source": [
        "<a href=\"https://colab.research.google.com/github/akashwaf/finvasia01/blob/main/main.ipynb\" target=\"_parent\"><img src=\"https://colab.research.google.com/assets/colab-badge.svg\" alt=\"Open In Colab\"/></a>"
      ]
    },
    {
      "cell_type": "code",
      "source": [
        "# run to install library temporarily \n",
        "\n",
        "!git clone https://github.com/Shoonya-Dev/ShoonyaApi-py.git\n",
        "\n",
        "# this are the libraries mentioned in requirements.txt\n",
        "!pip install requests\n",
        "!pip install websocket_client\n",
        "!pip install /content/ShoonyaApi-py/dist/NorenRestApiPy-0.0.20-py2.py3-none-any.whl\n",
        "!pip install pyyaml\n",
        "\n",
        "\n",
        "!pip install pyotp\n",
        "\n",
        "\n",
        "!pip install talib-binary"
      ],
      "metadata": {
        "colab": {
          "base_uri": "https://localhost:8080/"
        },
        "id": "wcyo133Jvg8l",
        "outputId": "6b301322-27ec-4ffb-c3a0-c16fcd38bc8d"
      },
      "execution_count": 1,
      "outputs": [
        {
          "output_type": "stream",
          "name": "stdout",
          "text": [
            "fatal: destination path 'ShoonyaApi-py' already exists and is not an empty directory.\n",
            "Looking in indexes: https://pypi.org/simple, https://us-python.pkg.dev/colab-wheels/public/simple/\n",
            "Requirement already satisfied: requests in /usr/local/lib/python3.7/dist-packages (2.23.0)\n",
            "Requirement already satisfied: idna<3,>=2.5 in /usr/local/lib/python3.7/dist-packages (from requests) (2.10)\n",
            "Requirement already satisfied: certifi>=2017.4.17 in /usr/local/lib/python3.7/dist-packages (from requests) (2022.9.24)\n",
            "Requirement already satisfied: chardet<4,>=3.0.2 in /usr/local/lib/python3.7/dist-packages (from requests) (3.0.4)\n",
            "Requirement already satisfied: urllib3!=1.25.0,!=1.25.1,<1.26,>=1.21.1 in /usr/local/lib/python3.7/dist-packages (from requests) (1.24.3)\n",
            "Looking in indexes: https://pypi.org/simple, https://us-python.pkg.dev/colab-wheels/public/simple/\n",
            "Requirement already satisfied: websocket_client in /usr/local/lib/python3.7/dist-packages (1.4.2)\n",
            "Looking in indexes: https://pypi.org/simple, https://us-python.pkg.dev/colab-wheels/public/simple/\n",
            "Processing ./ShoonyaApi-py/dist/NorenRestApiPy-0.0.20-py2.py3-none-any.whl\n",
            "NorenRestApiPy is already installed with the same version as the provided wheel. Use --force-reinstall to force an installation of the wheel.\n",
            "Looking in indexes: https://pypi.org/simple, https://us-python.pkg.dev/colab-wheels/public/simple/\n",
            "Requirement already satisfied: pyyaml in /usr/local/lib/python3.7/dist-packages (6.0)\n",
            "Looking in indexes: https://pypi.org/simple, https://us-python.pkg.dev/colab-wheels/public/simple/\n",
            "Requirement already satisfied: pyotp in /usr/local/lib/python3.7/dist-packages (2.7.0)\n",
            "Looking in indexes: https://pypi.org/simple, https://us-python.pkg.dev/colab-wheels/public/simple/\n",
            "Requirement already satisfied: talib-binary in /usr/local/lib/python3.7/dist-packages (0.4.19)\n",
            "Requirement already satisfied: numpy in /usr/local/lib/python3.7/dist-packages (from talib-binary) (1.21.6)\n"
          ]
        }
      ]
    },
    {
      "cell_type": "code",
      "source": [
        "# manually installed imports \n",
        "import pyotp"
      ],
      "metadata": {
        "id": "ft_Ug4OavwVW"
      },
      "execution_count": 2,
      "outputs": []
    },
    {
      "cell_type": "code",
      "source": [
        "# neccessary preinstalled imports \n",
        "\n",
        "import multiprocessing as mp \n",
        "import time\n",
        "import math\n",
        "import os , sys\n",
        "import logging\n",
        "import pandas as pd \n",
        "import pprint\n",
        "import time\n",
        "import yaml\n",
        "import warnings \n",
        "\n"
      ],
      "metadata": {
        "id": "yKdb86GlutmG"
      },
      "execution_count": 3,
      "outputs": []
    },
    {
      "cell_type": "code",
      "source": [
        "feed_opened = False\n",
        "\n",
        "\n",
        "simple_momentum_check = { }\n"
      ],
      "metadata": {
        "id": "M1lXQuYkWhGr"
      },
      "execution_count": 4,
      "outputs": []
    },
    {
      "cell_type": "code",
      "source": [
        "\n",
        "\n",
        "if True:\n",
        "  from NorenRestApiPy.NorenApi import  NorenApi\n",
        "  from threading import Timer\n",
        "  import pandas as pd\n",
        "  import time\n",
        "  import concurrent.futures\n",
        "\n",
        "  api = None\n",
        "  class Order:\n",
        "      def __init__(self, buy_or_sell:str = None, product_type:str = None,\n",
        "                  exchange: str = None, tradingsymbol:str =None, \n",
        "                  price_type: str = None, quantity: int = None, \n",
        "                  price: float = None,trigger_price:float = None, discloseqty: int = 0,\n",
        "                  retention:str = 'DAY', remarks: str = \"tag\",\n",
        "                  order_id:str = None):\n",
        "          self.buy_or_sell=buy_or_sell\n",
        "          self.product_type=product_type\n",
        "          self.exchange=exchange\n",
        "          self.tradingsymbol=tradingsymbol\n",
        "          self.quantity=quantity\n",
        "          self.discloseqty=discloseqty\n",
        "          self.price_type=price_type\n",
        "          self.price=price\n",
        "          self.trigger_price=trigger_price\n",
        "          self.retention=retention\n",
        "          self.remarks=remarks\n",
        "          self.order_id=None\n",
        "\n",
        "\n",
        "      #print(ret)\n",
        "\n",
        "      \n",
        "\n",
        "\n",
        "  def get_time(time_string):\n",
        "      data = time.strptime(time_string,'%d-%m-%Y %H:%M:%S')\n",
        "\n",
        "      return time.mktime(data)\n",
        "\n",
        "\n",
        "  class ShoonyaApiPy(NorenApi):\n",
        "      def __init__(self):\n",
        "          NorenApi.__init__(self, host='https://api.shoonya.com/NorenWClientTP/', websocket='wss://api.shoonya.com/NorenWSTP/', eodhost='https://shoonya.finvasia.com/chartApi/getdata/')\n",
        "          global api\n",
        "          api = self\n",
        "\n",
        "      def place_basket(self, orders):\n",
        "\n",
        "          resp_err = 0\n",
        "          resp_ok  = 0\n",
        "          result   = []\n",
        "          with concurrent.futures.ThreadPoolExecutor(max_workers=10) as executor:\n",
        "\n",
        "              future_to_url = {executor.submit(self.place_order, order): order for order in  orders}\n",
        "              for future in concurrent.futures.as_completed(future_to_url):\n",
        "                  url = future_to_url[future]\n",
        "              try:\n",
        "                  result.append(future.result())\n",
        "              except Exception as exc:\n",
        "                  print(exc)\n",
        "                  resp_err = resp_err + 1\n",
        "              else:\n",
        "                  resp_ok = resp_ok + 1\n",
        "\n",
        "          return result\n",
        "                  \n",
        "      def placeOrder(self,order: Order):\n",
        "          ret = NorenApi.place_order(self, buy_or_sell=order.buy_or_sell, product_type=order.product_type,\n",
        "                              exchange=order.exchange, tradingsymbol=order.tradingsymbol, \n",
        "                              quantity=order.quantity, discloseqty=order.discloseqty, price_type=order.price_type, \n",
        "                              price=order.price, trigger_price=order.trigger_price,\n",
        "                              retention=order.retention, remarks=order.remarks)\n",
        "          #print(ret)\n",
        "\n",
        "          return ret\n",
        "\n",
        "\n",
        "\n",
        "\n",
        "\n",
        "def do_login():\n",
        "  #enable dbug to see request and responses\n",
        "  logging.basicConfig(level=logging.DEBUG)\n",
        "\n",
        "  #start of our program\n",
        "  api = ShoonyaApiPy()\n",
        "\n",
        "  #credentials\n",
        "  user        = 'FA13620'\n",
        "  pwd       =  '2012Ak@sh'\n",
        "  token =     \"52R5K462BA4H5TJ7SS746S5534364527\"\n",
        "  factor2     =  pyotp.TOTP(token).now()\n",
        "  vc          = 'FA13620_U'\n",
        "  app_key     = '9088c808ac3522b35705a4acd8a46d03'\n",
        "  imei        = 'abc1234'\n",
        "\n",
        "\n",
        "\n",
        "\n",
        "  ret = api.login(userid=user, password=pwd, twoFA=factor2, vendor_code=vc, api_secret=app_key, imei=imei)\n",
        "\n",
        "\n",
        "  print(factor2)\n",
        "\n",
        "  print(ret)\n",
        "\n",
        "\n",
        "\n",
        "def get_token_df (opt_type= 'CE', expiry = '08-DEC-2022'):\n",
        "\n",
        "  # read\n",
        "      \n",
        "  token_df = pd.read_csv('https://shoonya.finvasia.com/NFO_symbols.txt.zip')\n",
        "  \n",
        "\n",
        "\n",
        "  banknifty_token  = token_df [token_df['Symbol'] == 'BANKNIFTY']\n",
        "  \n",
        "\n",
        "\n",
        "  banknifty_token  = banknifty_token [banknifty_token['Expiry'] == expiry]\n",
        "  \n",
        "\n",
        "\n",
        "\n",
        "  banknifty_token  = banknifty_token [banknifty_token['OptionType'] == opt_type]\n",
        "  print(banknifty_token)\n",
        "\n",
        "\n",
        "  banknifty_token.sort_values(by =  'StrikePrice', inplace = True)\n",
        "\n",
        "\n",
        "  return banknifty_token\n",
        "\n",
        "\n",
        "\n",
        "\n",
        "def make_ready_to_subscribe( token_df  ):\n",
        "\n",
        "  print(token_df)\n",
        "\n",
        "  token_list = token_df['Token'].tolist()\n",
        "\n",
        "  \n",
        "  # token_list = token_df[80:len(token_df)]['Token'].tolist()\n",
        "\n",
        "  ready_to_subscribe = []\n",
        "  for i in token_list:\n",
        "\n",
        "    ready_to_subscribe.append( 'NFO|'+str(i) )\n",
        "\n",
        "\n",
        "  print(ready_to_subscribe)\n",
        "\n",
        "\n",
        "  return ready_to_subscribe\n",
        "\n",
        "\n",
        "\n",
        "\n",
        "\n",
        "\n",
        "\n",
        "def select_opt_by_premium (premium  = 100):\n",
        "  # returns token and price of the selected premium \n",
        "  # for that it looks into ce_lp_data which is updated by the websocket \n",
        "\n",
        "  diff  = 1000000\n",
        "  nearest_price = 1000000\n",
        "  nearest_token = 9000000000\n",
        "\n",
        "  for x, y  in ce_lp_data.items():\n",
        "\n",
        "\n",
        "    if abs(float(y) - premium) < diff :\n",
        "\n",
        "      diff = abs(float(y) - premium)\n",
        "      nearest_token = x\n",
        "      nearest_price = float(y)\n",
        "\n",
        "\n",
        "  \n",
        "    # print(x , y )\n",
        "\n",
        "  print('nearest token , nearest_price, and difference is ')\n",
        "  print(nearest_token,nearest_price , diff)\n",
        "\n",
        "\n",
        "  return nearest_token , nearest_price\n",
        "\n",
        "\n",
        "\n",
        "\n",
        "\n",
        "\n",
        "\n",
        "if True: \n",
        "  # warnings.simplefilter(\"ignore\")\n",
        "  feed_opened = False\n",
        "  feedJson = {}\n",
        "  socket_opened = False\n",
        "  orderJson = {}\n",
        "\n",
        "\n",
        "  acknowledgement_data = {}\n",
        "  ce_lp_data = {}\n",
        "  pe_lp_data = {}\n",
        "\n",
        "\n",
        "\n",
        "\n",
        "  def event_handler_feed_update(tick_data):\n",
        "      \n",
        "      global data_response_type\n",
        "      global ce_lp_data\n",
        "\n",
        "\n",
        "      # UPDATE LIVE LTP IN  GLOBAL JASON FORMAT VARIABLE \n",
        "      if 'lp' in tick_data:\n",
        "        ce_lp_data[tick_data['tk']] =   tick_data['lp']\n",
        "\n",
        "\n",
        "  def event_handler_order_update(order_data):\n",
        "      print('orderupdate')\n",
        "      print(order_data)\n",
        "\n",
        "  def open_callback():\n",
        "      global feed_opened\n",
        "      feed_opened = True\n",
        "\n",
        "\n",
        "  def close_callback():\n",
        "      global feed_opened\n",
        "      # feed_opened = False\n",
        "\n",
        "  def setupWebSocket() :\n",
        "\n",
        "    api.close_websocket()\n",
        "    global fee_opened\n",
        "    \n",
        "    api.start_websocket( order_update_callback=event_handler_order_update,\n",
        "                      subscribe_callback=event_handler_feed_update, \n",
        "                      socket_open_callback= open_callback,\n",
        "                        socket_close_callback = close_callback)\n",
        "\n",
        "    time.sleep(1)\n",
        "    \n",
        "    while(feed_opened==False):\n",
        "        # print('here only')\n",
        "        pass\n",
        "\n",
        "\n",
        "    return True \n",
        "\n",
        "\n"
      ],
      "metadata": {
        "id": "gAsmpfh_zrAg"
      },
      "execution_count": 5,
      "outputs": []
    },
    {
      "cell_type": "code",
      "source": [
        "do_login()\n"
      ],
      "metadata": {
        "colab": {
          "base_uri": "https://localhost:8080/"
        },
        "id": "VKAZJWUswPlN",
        "outputId": "2cb12923-dc03-464f-8757-955e8556ec5a"
      },
      "execution_count": 6,
      "outputs": [
        {
          "output_type": "stream",
          "name": "stdout",
          "text": [
            "333233\n",
            "{'request_time': '10:40:58 02-12-2022', 'actid': 'FA13620', 'uname': 'AKASH RAJESHKUMAR PATEL', 'prarr': [{'prd': 'C', 's_prdt_ali': 'CNC', 'exch': ['NSE', 'BSE', 'NIPO']}, {'prd': 'M', 's_prdt_ali': 'NRML', 'exch': ['NFO', 'CDS', 'BCD', 'MCX']}, {'prd': 'I', 's_prdt_ali': 'MIS', 'exch': ['NSE', 'BSE', 'NFO', 'CDS', 'BCD', 'MCX']}, {'prd': 'H', 's_prdt_ali': 'CO', 'exch': ['NSE', 'NFO', 'CDS', 'MCX', 'BSE']}, {'prd': 'B', 's_prdt_ali': 'BO', 'exch': ['NSE', 'NFO', 'CDS', 'MCX', 'BSE']}], 'stat': 'Ok', 'susertoken': '128647c621085f9ea7dc4417f555556903ba3651922dbe44553c216ef278653c', 'email': 'AKSPMONEY1@GMAIL.COM', 'uid': 'FA13620', 'brnchid': 'HO', 'orarr': ['LMT', 'MKT', 'SL-LMT', 'SL-MKT'], 'exarr': ['NSE', 'NFO', 'CDS', 'MCX', 'BSE', 'BCD', 'NIPO'], 'values': ['1'], 'mws': {'1': []}, 'brkname': 'FINV', 'lastaccesstime': '1669957858'}\n"
          ]
        }
      ]
    },
    {
      "cell_type": "code",
      "source": [
        "# token_df = get_token_df()\n",
        "\n",
        "# tokens_ready = make_ready_to_subscribe(token_df)\n",
        "\n",
        "# print(tokens_ready)\n",
        "\n",
        "ce_tokens_df = get_token_df(opt_type = 'CE',  expiry = '08-DEC-2022')\n",
        "ready_to_subscribe = make_ready_to_subscribe(token_df = ce_tokens_df)\n",
        "\n",
        "# ready_to_subscribe = tokens_ready\n",
        "\n",
        "print(ready_to_subscribe)\n",
        "\n",
        "\n",
        "\n",
        "\n",
        "# it starts websocket \n",
        "global feed_opened \n",
        "\n",
        "if feed_opened == True :\n",
        "\n",
        "  api.close_websocket()\n",
        "  time.sleep(1)\n",
        "  setupWebSocket()\n",
        "\n",
        "api.subscribe(ready_to_subscribe, feed_type='t')\n",
        "\n",
        "\n",
        "time.sleep(5)\n",
        "\n",
        "\n",
        "\n",
        "token, price  = select_opt_by_premium (premium = 100)\n",
        "\n",
        "selected_token = token \n",
        "\n",
        "\n",
        "\n"
      ],
      "metadata": {
        "colab": {
          "base_uri": "https://localhost:8080/",
          "height": 1000
        },
        "id": "t3tznSqGPvNn",
        "outputId": "d48b5285-3dc8-4c0c-8e9e-acd955b05581"
      },
      "execution_count": 14,
      "outputs": [
        {
          "output_type": "stream",
          "name": "stdout",
          "text": [
            "      Exchange  Token  LotSize     Symbol           TradingSymbol  \\\n",
            "70867      NFO  57749       25  BANKNIFTY  BANKNIFTY08DEC22C53000   \n",
            "70869      NFO  57747       25  BANKNIFTY  BANKNIFTY08DEC22C47100   \n",
            "70871      NFO  57745       25  BANKNIFTY  BANKNIFTY08DEC22C46900   \n",
            "70873      NFO  57743       25  BANKNIFTY  BANKNIFTY08DEC22C46800   \n",
            "74954      NFO  52359       25  BANKNIFTY  BANKNIFTY08DEC22C52500   \n",
            "...        ...    ...      ...        ...                     ...   \n",
            "88104      NFO  36757       25  BANKNIFTY  BANKNIFTY08DEC22C46700   \n",
            "88106      NFO  36755       25  BANKNIFTY  BANKNIFTY08DEC22C46600   \n",
            "88465      NFO  36394       25  BANKNIFTY  BANKNIFTY08DEC22C47200   \n",
            "89713      NFO  35120       25  BANKNIFTY  BANKNIFTY08DEC22C46100   \n",
            "89716      NFO  35117       25  BANKNIFTY  BANKNIFTY08DEC22C45900   \n",
            "\n",
            "            Expiry Instrument OptionType  StrikePrice  TickSize  Unnamed: 10  \n",
            "70867  08-DEC-2022     OPTIDX         CE      53000.0      0.05          NaN  \n",
            "70869  08-DEC-2022     OPTIDX         CE      47100.0      0.05          NaN  \n",
            "70871  08-DEC-2022     OPTIDX         CE      46900.0      0.05          NaN  \n",
            "70873  08-DEC-2022     OPTIDX         CE      46800.0      0.05          NaN  \n",
            "74954  08-DEC-2022     OPTIDX         CE      52500.0      0.05          NaN  \n",
            "...            ...        ...        ...          ...       ...          ...  \n",
            "88104  08-DEC-2022     OPTIDX         CE      46700.0      0.05          NaN  \n",
            "88106  08-DEC-2022     OPTIDX         CE      46600.0      0.05          NaN  \n",
            "88465  08-DEC-2022     OPTIDX         CE      47200.0      0.05          NaN  \n",
            "89713  08-DEC-2022     OPTIDX         CE      46100.0      0.05          NaN  \n",
            "89716  08-DEC-2022     OPTIDX         CE      45900.0      0.05          NaN  \n",
            "\n",
            "[126 rows x 11 columns]\n",
            "      Exchange  Token  LotSize     Symbol           TradingSymbol  \\\n",
            "81615      NFO  43308       25  BANKNIFTY  BANKNIFTY08DEC22C31500   \n",
            "81613      NFO  43310       25  BANKNIFTY  BANKNIFTY08DEC22C32000   \n",
            "81611      NFO  43312       25  BANKNIFTY  BANKNIFTY08DEC22C32500   \n",
            "81609      NFO  43314       25  BANKNIFTY  BANKNIFTY08DEC22C33000   \n",
            "81606      NFO  43317       25  BANKNIFTY  BANKNIFTY08DEC22C33500   \n",
            "...        ...    ...      ...        ...                     ...   \n",
            "80952      NFO  43971       25  BANKNIFTY  BANKNIFTY08DEC22C51500   \n",
            "82494      NFO  42417       25  BANKNIFTY  BANKNIFTY08DEC22C52000   \n",
            "74954      NFO  52359       25  BANKNIFTY  BANKNIFTY08DEC22C52500   \n",
            "70867      NFO  57749       25  BANKNIFTY  BANKNIFTY08DEC22C53000   \n",
            "84271      NFO  40620       25  BANKNIFTY  BANKNIFTY08DEC22C53500   \n",
            "\n",
            "            Expiry Instrument OptionType  StrikePrice  TickSize  Unnamed: 10  \n",
            "81615  08-DEC-2022     OPTIDX         CE      31500.0      0.05          NaN  \n",
            "81613  08-DEC-2022     OPTIDX         CE      32000.0      0.05          NaN  \n",
            "81611  08-DEC-2022     OPTIDX         CE      32500.0      0.05          NaN  \n",
            "81609  08-DEC-2022     OPTIDX         CE      33000.0      0.05          NaN  \n",
            "81606  08-DEC-2022     OPTIDX         CE      33500.0      0.05          NaN  \n",
            "...            ...        ...        ...          ...       ...          ...  \n",
            "80952  08-DEC-2022     OPTIDX         CE      51500.0      0.05          NaN  \n",
            "82494  08-DEC-2022     OPTIDX         CE      52000.0      0.05          NaN  \n",
            "74954  08-DEC-2022     OPTIDX         CE      52500.0      0.05          NaN  \n",
            "70867  08-DEC-2022     OPTIDX         CE      53000.0      0.05          NaN  \n",
            "84271  08-DEC-2022     OPTIDX         CE      53500.0      0.05          NaN  \n",
            "\n",
            "[126 rows x 11 columns]\n",
            "['NFO|43308', 'NFO|43310', 'NFO|43312', 'NFO|43314', 'NFO|43317', 'NFO|43324', 'NFO|43336', 'NFO|43338', 'NFO|43343', 'NFO|43351', 'NFO|43357', 'NFO|43359', 'NFO|43363', 'NFO|43366', 'NFO|43393', 'NFO|43399', 'NFO|43402', 'NFO|43412', 'NFO|43414', 'NFO|43433', 'NFO|43435', 'NFO|43437', 'NFO|43440', 'NFO|43451', 'NFO|43459', 'NFO|43461', 'NFO|43471', 'NFO|43473', 'NFO|43489', 'NFO|43495', 'NFO|43497', 'NFO|43499', 'NFO|43507', 'NFO|43513', 'NFO|43523', 'NFO|43525', 'NFO|43527', 'NFO|43529', 'NFO|43531', 'NFO|43533', 'NFO|43535', 'NFO|43552', 'NFO|43554', 'NFO|43564', 'NFO|43566', 'NFO|43573', 'NFO|43575', 'NFO|43578', 'NFO|43585', 'NFO|43594', 'NFO|43609', 'NFO|43613', 'NFO|43615', 'NFO|43617', 'NFO|43625', 'NFO|43629', 'NFO|43631', 'NFO|43646', 'NFO|43648', 'NFO|43651', 'NFO|43660', 'NFO|43663', 'NFO|43666', 'NFO|43670', 'NFO|43673', 'NFO|43695', 'NFO|43703', 'NFO|43709', 'NFO|43719', 'NFO|43721', 'NFO|43733', 'NFO|43741', 'NFO|43749', 'NFO|43755', 'NFO|43757', 'NFO|43771', 'NFO|43774', 'NFO|43776', 'NFO|43778', 'NFO|43780', 'NFO|43785', 'NFO|43788', 'NFO|43792', 'NFO|43809', 'NFO|43814', 'NFO|43825', 'NFO|43827', 'NFO|43838', 'NFO|43840', 'NFO|43850', 'NFO|43875', 'NFO|43881', 'NFO|43888', 'NFO|46003', 'NFO|43894', 'NFO|46016', 'NFO|46024', 'NFO|39778', 'NFO|35117', 'NFO|43903', 'NFO|35120', 'NFO|52342', 'NFO|52352', 'NFO|52357', 'NFO|43909', 'NFO|36755', 'NFO|36757', 'NFO|57743', 'NFO|57745', 'NFO|43915', 'NFO|57747', 'NFO|36394', 'NFO|40615', 'NFO|43917', 'NFO|43919', 'NFO|43922', 'NFO|43924', 'NFO|43937', 'NFO|43950', 'NFO|43959', 'NFO|43961', 'NFO|43971', 'NFO|42417', 'NFO|52359', 'NFO|57749', 'NFO|40620']\n",
            "['NFO|43308', 'NFO|43310', 'NFO|43312', 'NFO|43314', 'NFO|43317', 'NFO|43324', 'NFO|43336', 'NFO|43338', 'NFO|43343', 'NFO|43351', 'NFO|43357', 'NFO|43359', 'NFO|43363', 'NFO|43366', 'NFO|43393', 'NFO|43399', 'NFO|43402', 'NFO|43412', 'NFO|43414', 'NFO|43433', 'NFO|43435', 'NFO|43437', 'NFO|43440', 'NFO|43451', 'NFO|43459', 'NFO|43461', 'NFO|43471', 'NFO|43473', 'NFO|43489', 'NFO|43495', 'NFO|43497', 'NFO|43499', 'NFO|43507', 'NFO|43513', 'NFO|43523', 'NFO|43525', 'NFO|43527', 'NFO|43529', 'NFO|43531', 'NFO|43533', 'NFO|43535', 'NFO|43552', 'NFO|43554', 'NFO|43564', 'NFO|43566', 'NFO|43573', 'NFO|43575', 'NFO|43578', 'NFO|43585', 'NFO|43594', 'NFO|43609', 'NFO|43613', 'NFO|43615', 'NFO|43617', 'NFO|43625', 'NFO|43629', 'NFO|43631', 'NFO|43646', 'NFO|43648', 'NFO|43651', 'NFO|43660', 'NFO|43663', 'NFO|43666', 'NFO|43670', 'NFO|43673', 'NFO|43695', 'NFO|43703', 'NFO|43709', 'NFO|43719', 'NFO|43721', 'NFO|43733', 'NFO|43741', 'NFO|43749', 'NFO|43755', 'NFO|43757', 'NFO|43771', 'NFO|43774', 'NFO|43776', 'NFO|43778', 'NFO|43780', 'NFO|43785', 'NFO|43788', 'NFO|43792', 'NFO|43809', 'NFO|43814', 'NFO|43825', 'NFO|43827', 'NFO|43838', 'NFO|43840', 'NFO|43850', 'NFO|43875', 'NFO|43881', 'NFO|43888', 'NFO|46003', 'NFO|43894', 'NFO|46016', 'NFO|46024', 'NFO|39778', 'NFO|35117', 'NFO|43903', 'NFO|35120', 'NFO|52342', 'NFO|52352', 'NFO|52357', 'NFO|43909', 'NFO|36755', 'NFO|36757', 'NFO|57743', 'NFO|57745', 'NFO|43915', 'NFO|57747', 'NFO|36394', 'NFO|40615', 'NFO|43917', 'NFO|43919', 'NFO|43922', 'NFO|43924', 'NFO|43937', 'NFO|43950', 'NFO|43959', 'NFO|43961', 'NFO|43971', 'NFO|42417', 'NFO|52359', 'NFO|57749', 'NFO|40620']\n"
          ]
        },
        {
          "output_type": "error",
          "ename": "KeyboardInterrupt",
          "evalue": "ignored",
          "traceback": [
            "\u001b[0;31m---------------------------------------------------------------------------\u001b[0m",
            "\u001b[0;31mKeyboardInterrupt\u001b[0m                         Traceback (most recent call last)",
            "\u001b[0;32m<ipython-input-14-33310eac5f37>\u001b[0m in \u001b[0;36m<module>\u001b[0;34m\u001b[0m\n\u001b[1;32m     24\u001b[0m   \u001b[0msetupWebSocket\u001b[0m\u001b[0;34m(\u001b[0m\u001b[0;34m)\u001b[0m\u001b[0;34m\u001b[0m\u001b[0;34m\u001b[0m\u001b[0m\n\u001b[1;32m     25\u001b[0m \u001b[0;34m\u001b[0m\u001b[0m\n\u001b[0;32m---> 26\u001b[0;31m \u001b[0mapi\u001b[0m\u001b[0;34m.\u001b[0m\u001b[0msubscribe\u001b[0m\u001b[0;34m(\u001b[0m\u001b[0mready_to_subscribe\u001b[0m\u001b[0;34m,\u001b[0m \u001b[0mfeed_type\u001b[0m\u001b[0;34m=\u001b[0m\u001b[0;34m't'\u001b[0m\u001b[0;34m)\u001b[0m\u001b[0;34m\u001b[0m\u001b[0;34m\u001b[0m\u001b[0m\n\u001b[0m\u001b[1;32m     27\u001b[0m \u001b[0;34m\u001b[0m\u001b[0m\n\u001b[1;32m     28\u001b[0m \u001b[0;34m\u001b[0m\u001b[0m\n",
            "\u001b[0;32m/usr/local/lib/python3.7/dist-packages/NorenRestApiPy/NorenApi.py\u001b[0m in \u001b[0;36msubscribe\u001b[0;34m(self, instrument, feed_type)\u001b[0m\n\u001b[1;32m    334\u001b[0m \u001b[0;34m\u001b[0m\u001b[0m\n\u001b[1;32m    335\u001b[0m         \u001b[0;31m#print(data)\u001b[0m\u001b[0;34m\u001b[0m\u001b[0;34m\u001b[0m\u001b[0;34m\u001b[0m\u001b[0m\n\u001b[0;32m--> 336\u001b[0;31m         \u001b[0mself\u001b[0m\u001b[0;34m.\u001b[0m\u001b[0m__ws_send\u001b[0m\u001b[0;34m(\u001b[0m\u001b[0mdata\u001b[0m\u001b[0;34m)\u001b[0m\u001b[0;34m\u001b[0m\u001b[0;34m\u001b[0m\u001b[0m\n\u001b[0m\u001b[1;32m    337\u001b[0m \u001b[0;34m\u001b[0m\u001b[0m\n\u001b[1;32m    338\u001b[0m     \u001b[0;32mdef\u001b[0m \u001b[0munsubscribe\u001b[0m\u001b[0;34m(\u001b[0m\u001b[0mself\u001b[0m\u001b[0;34m,\u001b[0m \u001b[0minstrument\u001b[0m\u001b[0;34m,\u001b[0m \u001b[0mfeed_type\u001b[0m\u001b[0;34m=\u001b[0m\u001b[0mFeedType\u001b[0m\u001b[0;34m.\u001b[0m\u001b[0mTOUCHLINE\u001b[0m\u001b[0;34m)\u001b[0m\u001b[0;34m:\u001b[0m\u001b[0;34m\u001b[0m\u001b[0;34m\u001b[0m\u001b[0m\n",
            "\u001b[0;32m/usr/local/lib/python3.7/dist-packages/NorenRestApiPy/NorenApi.py\u001b[0m in \u001b[0;36m__ws_send\u001b[0;34m(self, *args, **kwargs)\u001b[0m\n\u001b[1;32m    108\u001b[0m     \u001b[0;32mdef\u001b[0m \u001b[0m__ws_send\u001b[0m\u001b[0;34m(\u001b[0m\u001b[0mself\u001b[0m\u001b[0;34m,\u001b[0m \u001b[0;34m*\u001b[0m\u001b[0margs\u001b[0m\u001b[0;34m,\u001b[0m \u001b[0;34m**\u001b[0m\u001b[0mkwargs\u001b[0m\u001b[0;34m)\u001b[0m\u001b[0;34m:\u001b[0m\u001b[0;34m\u001b[0m\u001b[0;34m\u001b[0m\u001b[0m\n\u001b[1;32m    109\u001b[0m         \u001b[0;32mwhile\u001b[0m \u001b[0mself\u001b[0m\u001b[0;34m.\u001b[0m\u001b[0m__websocket_connected\u001b[0m \u001b[0;34m==\u001b[0m \u001b[0;32mFalse\u001b[0m\u001b[0;34m:\u001b[0m\u001b[0;34m\u001b[0m\u001b[0;34m\u001b[0m\u001b[0m\n\u001b[0;32m--> 110\u001b[0;31m             \u001b[0msleep\u001b[0m\u001b[0;34m(\u001b[0m\u001b[0;36m0.05\u001b[0m\u001b[0;34m)\u001b[0m  \u001b[0;31m# sleep for 50ms if websocket is not connected, wait for reconnection\u001b[0m\u001b[0;34m\u001b[0m\u001b[0;34m\u001b[0m\u001b[0m\n\u001b[0m\u001b[1;32m    111\u001b[0m         \u001b[0;32mwith\u001b[0m \u001b[0mself\u001b[0m\u001b[0;34m.\u001b[0m\u001b[0m__ws_mutex\u001b[0m\u001b[0;34m:\u001b[0m\u001b[0;34m\u001b[0m\u001b[0;34m\u001b[0m\u001b[0m\n\u001b[1;32m    112\u001b[0m             \u001b[0mret\u001b[0m \u001b[0;34m=\u001b[0m \u001b[0mself\u001b[0m\u001b[0;34m.\u001b[0m\u001b[0m__websocket\u001b[0m\u001b[0;34m.\u001b[0m\u001b[0msend\u001b[0m\u001b[0;34m(\u001b[0m\u001b[0;34m*\u001b[0m\u001b[0margs\u001b[0m\u001b[0;34m,\u001b[0m \u001b[0;34m**\u001b[0m\u001b[0mkwargs\u001b[0m\u001b[0;34m)\u001b[0m\u001b[0;34m\u001b[0m\u001b[0;34m\u001b[0m\u001b[0m\n",
            "\u001b[0;31mKeyboardInterrupt\u001b[0m: "
          ]
        }
      ]
    },
    {
      "cell_type": "code",
      "source": [
        "\n",
        "# api.unsubscribe(ready_to_subscribe)\n",
        "\n",
        "api.close_websocket()\n",
        "feed_opened == False\n",
        "\n"
      ],
      "metadata": {
        "id": "jWoSOuv0CykX",
        "colab": {
          "base_uri": "https://localhost:8080/"
        },
        "outputId": "3f6bb802-25b6-435d-8172-d6d387f37cfc"
      },
      "execution_count": 10,
      "outputs": [
        {
          "output_type": "execute_result",
          "data": {
            "text/plain": [
              "True"
            ]
          },
          "metadata": {},
          "execution_count": 10
        }
      ]
    },
    {
      "cell_type": "code",
      "source": [
        "# imp\n",
        "# used for getting token df and token list \n",
        "# used for ready to subscribe tokens\n",
        "ce_tokens_df = get_token_df(opt_type = 'CE',  expiry = '08-DEC-2022')\n",
        "ready_to_subscribe = make_ready_to_subscribe(token_df = ce_tokens_df)\n",
        "\n",
        "\n",
        "\n",
        "print(ready_to_subscribe)\n",
        "\n",
        "ce_token_list = ce_tokens_df['Token'].tolist()\n",
        "print(ce_token_list)"
      ],
      "metadata": {
        "colab": {
          "base_uri": "https://localhost:8080/"
        },
        "id": "iWDhOagrT8ot",
        "outputId": "2d63e61f-2427-470e-c4e2-b5f8f066fb48"
      },
      "execution_count": 11,
      "outputs": [
        {
          "output_type": "stream",
          "name": "stdout",
          "text": [
            "      Exchange  Token  LotSize     Symbol           TradingSymbol  \\\n",
            "70867      NFO  57749       25  BANKNIFTY  BANKNIFTY08DEC22C53000   \n",
            "70869      NFO  57747       25  BANKNIFTY  BANKNIFTY08DEC22C47100   \n",
            "70871      NFO  57745       25  BANKNIFTY  BANKNIFTY08DEC22C46900   \n",
            "70873      NFO  57743       25  BANKNIFTY  BANKNIFTY08DEC22C46800   \n",
            "74954      NFO  52359       25  BANKNIFTY  BANKNIFTY08DEC22C52500   \n",
            "...        ...    ...      ...        ...                     ...   \n",
            "88104      NFO  36757       25  BANKNIFTY  BANKNIFTY08DEC22C46700   \n",
            "88106      NFO  36755       25  BANKNIFTY  BANKNIFTY08DEC22C46600   \n",
            "88465      NFO  36394       25  BANKNIFTY  BANKNIFTY08DEC22C47200   \n",
            "89713      NFO  35120       25  BANKNIFTY  BANKNIFTY08DEC22C46100   \n",
            "89716      NFO  35117       25  BANKNIFTY  BANKNIFTY08DEC22C45900   \n",
            "\n",
            "            Expiry Instrument OptionType  StrikePrice  TickSize  Unnamed: 10  \n",
            "70867  08-DEC-2022     OPTIDX         CE      53000.0      0.05          NaN  \n",
            "70869  08-DEC-2022     OPTIDX         CE      47100.0      0.05          NaN  \n",
            "70871  08-DEC-2022     OPTIDX         CE      46900.0      0.05          NaN  \n",
            "70873  08-DEC-2022     OPTIDX         CE      46800.0      0.05          NaN  \n",
            "74954  08-DEC-2022     OPTIDX         CE      52500.0      0.05          NaN  \n",
            "...            ...        ...        ...          ...       ...          ...  \n",
            "88104  08-DEC-2022     OPTIDX         CE      46700.0      0.05          NaN  \n",
            "88106  08-DEC-2022     OPTIDX         CE      46600.0      0.05          NaN  \n",
            "88465  08-DEC-2022     OPTIDX         CE      47200.0      0.05          NaN  \n",
            "89713  08-DEC-2022     OPTIDX         CE      46100.0      0.05          NaN  \n",
            "89716  08-DEC-2022     OPTIDX         CE      45900.0      0.05          NaN  \n",
            "\n",
            "[126 rows x 11 columns]\n",
            "      Exchange  Token  LotSize     Symbol           TradingSymbol  \\\n",
            "81615      NFO  43308       25  BANKNIFTY  BANKNIFTY08DEC22C31500   \n",
            "81613      NFO  43310       25  BANKNIFTY  BANKNIFTY08DEC22C32000   \n",
            "81611      NFO  43312       25  BANKNIFTY  BANKNIFTY08DEC22C32500   \n",
            "81609      NFO  43314       25  BANKNIFTY  BANKNIFTY08DEC22C33000   \n",
            "81606      NFO  43317       25  BANKNIFTY  BANKNIFTY08DEC22C33500   \n",
            "...        ...    ...      ...        ...                     ...   \n",
            "80952      NFO  43971       25  BANKNIFTY  BANKNIFTY08DEC22C51500   \n",
            "82494      NFO  42417       25  BANKNIFTY  BANKNIFTY08DEC22C52000   \n",
            "74954      NFO  52359       25  BANKNIFTY  BANKNIFTY08DEC22C52500   \n",
            "70867      NFO  57749       25  BANKNIFTY  BANKNIFTY08DEC22C53000   \n",
            "84271      NFO  40620       25  BANKNIFTY  BANKNIFTY08DEC22C53500   \n",
            "\n",
            "            Expiry Instrument OptionType  StrikePrice  TickSize  Unnamed: 10  \n",
            "81615  08-DEC-2022     OPTIDX         CE      31500.0      0.05          NaN  \n",
            "81613  08-DEC-2022     OPTIDX         CE      32000.0      0.05          NaN  \n",
            "81611  08-DEC-2022     OPTIDX         CE      32500.0      0.05          NaN  \n",
            "81609  08-DEC-2022     OPTIDX         CE      33000.0      0.05          NaN  \n",
            "81606  08-DEC-2022     OPTIDX         CE      33500.0      0.05          NaN  \n",
            "...            ...        ...        ...          ...       ...          ...  \n",
            "80952  08-DEC-2022     OPTIDX         CE      51500.0      0.05          NaN  \n",
            "82494  08-DEC-2022     OPTIDX         CE      52000.0      0.05          NaN  \n",
            "74954  08-DEC-2022     OPTIDX         CE      52500.0      0.05          NaN  \n",
            "70867  08-DEC-2022     OPTIDX         CE      53000.0      0.05          NaN  \n",
            "84271  08-DEC-2022     OPTIDX         CE      53500.0      0.05          NaN  \n",
            "\n",
            "[126 rows x 11 columns]\n",
            "['NFO|43308', 'NFO|43310', 'NFO|43312', 'NFO|43314', 'NFO|43317', 'NFO|43324', 'NFO|43336', 'NFO|43338', 'NFO|43343', 'NFO|43351', 'NFO|43357', 'NFO|43359', 'NFO|43363', 'NFO|43366', 'NFO|43393', 'NFO|43399', 'NFO|43402', 'NFO|43412', 'NFO|43414', 'NFO|43433', 'NFO|43435', 'NFO|43437', 'NFO|43440', 'NFO|43451', 'NFO|43459', 'NFO|43461', 'NFO|43471', 'NFO|43473', 'NFO|43489', 'NFO|43495', 'NFO|43497', 'NFO|43499', 'NFO|43507', 'NFO|43513', 'NFO|43523', 'NFO|43525', 'NFO|43527', 'NFO|43529', 'NFO|43531', 'NFO|43533', 'NFO|43535', 'NFO|43552', 'NFO|43554', 'NFO|43564', 'NFO|43566', 'NFO|43573', 'NFO|43575', 'NFO|43578', 'NFO|43585', 'NFO|43594', 'NFO|43609', 'NFO|43613', 'NFO|43615', 'NFO|43617', 'NFO|43625', 'NFO|43629', 'NFO|43631', 'NFO|43646', 'NFO|43648', 'NFO|43651', 'NFO|43660', 'NFO|43663', 'NFO|43666', 'NFO|43670', 'NFO|43673', 'NFO|43695', 'NFO|43703', 'NFO|43709', 'NFO|43719', 'NFO|43721', 'NFO|43733', 'NFO|43741', 'NFO|43749', 'NFO|43755', 'NFO|43757', 'NFO|43771', 'NFO|43774', 'NFO|43776', 'NFO|43778', 'NFO|43780', 'NFO|43785', 'NFO|43788', 'NFO|43792', 'NFO|43809', 'NFO|43814', 'NFO|43825', 'NFO|43827', 'NFO|43838', 'NFO|43840', 'NFO|43850', 'NFO|43875', 'NFO|43881', 'NFO|43888', 'NFO|46003', 'NFO|43894', 'NFO|46016', 'NFO|46024', 'NFO|39778', 'NFO|35117', 'NFO|43903', 'NFO|35120', 'NFO|52342', 'NFO|52352', 'NFO|52357', 'NFO|43909', 'NFO|36755', 'NFO|36757', 'NFO|57743', 'NFO|57745', 'NFO|43915', 'NFO|57747', 'NFO|36394', 'NFO|40615', 'NFO|43917', 'NFO|43919', 'NFO|43922', 'NFO|43924', 'NFO|43937', 'NFO|43950', 'NFO|43959', 'NFO|43961', 'NFO|43971', 'NFO|42417', 'NFO|52359', 'NFO|57749', 'NFO|40620']\n",
            "['NFO|43308', 'NFO|43310', 'NFO|43312', 'NFO|43314', 'NFO|43317', 'NFO|43324', 'NFO|43336', 'NFO|43338', 'NFO|43343', 'NFO|43351', 'NFO|43357', 'NFO|43359', 'NFO|43363', 'NFO|43366', 'NFO|43393', 'NFO|43399', 'NFO|43402', 'NFO|43412', 'NFO|43414', 'NFO|43433', 'NFO|43435', 'NFO|43437', 'NFO|43440', 'NFO|43451', 'NFO|43459', 'NFO|43461', 'NFO|43471', 'NFO|43473', 'NFO|43489', 'NFO|43495', 'NFO|43497', 'NFO|43499', 'NFO|43507', 'NFO|43513', 'NFO|43523', 'NFO|43525', 'NFO|43527', 'NFO|43529', 'NFO|43531', 'NFO|43533', 'NFO|43535', 'NFO|43552', 'NFO|43554', 'NFO|43564', 'NFO|43566', 'NFO|43573', 'NFO|43575', 'NFO|43578', 'NFO|43585', 'NFO|43594', 'NFO|43609', 'NFO|43613', 'NFO|43615', 'NFO|43617', 'NFO|43625', 'NFO|43629', 'NFO|43631', 'NFO|43646', 'NFO|43648', 'NFO|43651', 'NFO|43660', 'NFO|43663', 'NFO|43666', 'NFO|43670', 'NFO|43673', 'NFO|43695', 'NFO|43703', 'NFO|43709', 'NFO|43719', 'NFO|43721', 'NFO|43733', 'NFO|43741', 'NFO|43749', 'NFO|43755', 'NFO|43757', 'NFO|43771', 'NFO|43774', 'NFO|43776', 'NFO|43778', 'NFO|43780', 'NFO|43785', 'NFO|43788', 'NFO|43792', 'NFO|43809', 'NFO|43814', 'NFO|43825', 'NFO|43827', 'NFO|43838', 'NFO|43840', 'NFO|43850', 'NFO|43875', 'NFO|43881', 'NFO|43888', 'NFO|46003', 'NFO|43894', 'NFO|46016', 'NFO|46024', 'NFO|39778', 'NFO|35117', 'NFO|43903', 'NFO|35120', 'NFO|52342', 'NFO|52352', 'NFO|52357', 'NFO|43909', 'NFO|36755', 'NFO|36757', 'NFO|57743', 'NFO|57745', 'NFO|43915', 'NFO|57747', 'NFO|36394', 'NFO|40615', 'NFO|43917', 'NFO|43919', 'NFO|43922', 'NFO|43924', 'NFO|43937', 'NFO|43950', 'NFO|43959', 'NFO|43961', 'NFO|43971', 'NFO|42417', 'NFO|52359', 'NFO|57749', 'NFO|40620']\n",
            "[43308, 43310, 43312, 43314, 43317, 43324, 43336, 43338, 43343, 43351, 43357, 43359, 43363, 43366, 43393, 43399, 43402, 43412, 43414, 43433, 43435, 43437, 43440, 43451, 43459, 43461, 43471, 43473, 43489, 43495, 43497, 43499, 43507, 43513, 43523, 43525, 43527, 43529, 43531, 43533, 43535, 43552, 43554, 43564, 43566, 43573, 43575, 43578, 43585, 43594, 43609, 43613, 43615, 43617, 43625, 43629, 43631, 43646, 43648, 43651, 43660, 43663, 43666, 43670, 43673, 43695, 43703, 43709, 43719, 43721, 43733, 43741, 43749, 43755, 43757, 43771, 43774, 43776, 43778, 43780, 43785, 43788, 43792, 43809, 43814, 43825, 43827, 43838, 43840, 43850, 43875, 43881, 43888, 46003, 43894, 46016, 46024, 39778, 35117, 43903, 35120, 52342, 52352, 52357, 43909, 36755, 36757, 57743, 57745, 43915, 57747, 36394, 40615, 43917, 43919, 43922, 43924, 43937, 43950, 43959, 43961, 43971, 42417, 52359, 57749, 40620]\n"
          ]
        }
      ]
    },
    {
      "cell_type": "code",
      "source": [
        "print(type(ce_lp_data))\n",
        "print(ce_lp_data)\n",
        "\n",
        "print(len(ready_to_subscribe))\n",
        "print(len(ce_lp_data))"
      ],
      "metadata": {
        "id": "exuCK-Gqvyy1",
        "colab": {
          "base_uri": "https://localhost:8080/"
        },
        "outputId": "554caef0-c047-4160-8b95-eea0a3b8cc5f"
      },
      "execution_count": 12,
      "outputs": [
        {
          "output_type": "stream",
          "name": "stdout",
          "text": [
            "<class 'dict'>\n",
            "{}\n",
            "126\n",
            "0\n"
          ]
        }
      ]
    },
    {
      "cell_type": "code",
      "source": [],
      "metadata": {
        "id": "QmC3xbn_ZrOO"
      },
      "execution_count": null,
      "outputs": []
    },
    {
      "cell_type": "code",
      "source": [
        "\n",
        "\n",
        "\n",
        "ltp = price \n",
        "token = token \n",
        "def set_simple_momentum(token , ltp):\n",
        "\n",
        "  # set dictionary which will be checked continuously.\n",
        "  global simple_momentum_check\n",
        "\n",
        "  simple_momentum_check [token]  = {}\n",
        "\n",
        "  simple_momentum_check[token]['level'] =  ltp - ltp *0.001 \n",
        "  simple_momentum_check[token]['side'] =  'down'\n",
        "  simple_momentum_check[token]['condition'] =  'False'\n",
        "  simple_momentum_check[token]['action'] =  'sell'           \n",
        "  simple_momentum_check[token]['action_successfull'] =  'NS'             # not successfull = NS , successfull = S\n",
        "  simple_momentum_check[token]['close'] =  'N'                           # NO = N , YES = Y \n",
        "\n",
        "  return True \n",
        "\n",
        "\n",
        "\n",
        "\n",
        "binary = set_simple_momentum(token , ltp )\n",
        "if binary == True :\n",
        "\n",
        "  print('done')\n",
        "print( simple_momentum_check)\n",
        "  \n",
        "\n",
        "\n",
        "\n",
        "\n",
        "\n",
        "\n",
        "def continuous_checking ():\n",
        "  # continuously checks for  condtion satisfied or not  i.e. simple momentum condition \n",
        "\n",
        "\n",
        "\n",
        "  global simple_momentum_check \n",
        "\n",
        "\n",
        "  counter = 0\n",
        "  token_key_list  = list(simple_momentum_check.keys())\n",
        "\n",
        "\n",
        "  print(len(simple_momentum_check))\n",
        "  print(len(token_key_list))\n",
        "\n",
        "\n",
        "  while len(simple_momentum_check) != 0:\n",
        "\n",
        "    time.sleep(1)\n",
        "    print(counter)\n",
        "\n",
        "    token = token_key_list[counter]\n",
        "\n",
        "\n",
        "    if  (float(ce_lp_data[token] )) <  simple_momentum_check[token] ['level'] :\n",
        "      \n",
        "         simple_momentum_check[token] ['action']  = True \n",
        "\n",
        "         print('take_some_acctions ')\n",
        "         ######### take some actions ###### takes some trades ######### and get info updated \n",
        "\n",
        "\n",
        "\n",
        "\n",
        "    if counter +1 >= len(simple_momentum_check):\n",
        "      counter = 0\n",
        "    else:\n",
        "      counter = counter + 1 \n",
        "\n",
        "    \n",
        "    time.sleep(1)\n",
        "    \n",
        "    \n",
        "continuous_checking()\n",
        "\n",
        "\n"
      ],
      "metadata": {
        "id": "KlbJzdP_ZrQC"
      },
      "execution_count": null,
      "outputs": []
    },
    {
      "cell_type": "code",
      "source": [],
      "metadata": {
        "id": "M2jHmTj2ZrSo"
      },
      "execution_count": null,
      "outputs": []
    },
    {
      "cell_type": "code",
      "source": [],
      "metadata": {
        "id": "j5PeA49PZrWt"
      },
      "execution_count": null,
      "outputs": []
    },
    {
      "cell_type": "code",
      "source": [],
      "metadata": {
        "id": "pHQFrTZywPs5"
      },
      "execution_count": null,
      "outputs": []
    },
    {
      "cell_type": "code",
      "source": [
        "\n",
        "\n",
        "selected_token_price = {'60695' : 90 , '60710': 85}\n",
        "momentum_check  = {'60695': '' }\n",
        "\n",
        "\n",
        "token_conditions  = { '60695' : { 'price': 110,\n",
        "                                 'condition' : False,\n",
        "                                 'action': False,\n",
        "                                 'actition_success': False\n",
        "                                 }\n",
        "                     }\n",
        "\n",
        "\n",
        "def token_condtion_action (token_price_dict = selected_token_price , movement = 'down'):\n",
        "  \n",
        "\n",
        "\n",
        "\n",
        "  ce_lp_data['60695']\n",
        "\n",
        "  for x, y  in ce_lp_data.items():\n",
        "\n",
        "\n",
        "\n",
        "\n",
        "\n",
        "  \n",
        "\n"
      ],
      "metadata": {
        "id": "8NjhE6AwwPvj"
      },
      "execution_count": null,
      "outputs": []
    },
    {
      "cell_type": "code",
      "source": [],
      "metadata": {
        "id": "8Oet7qj7wPzm"
      },
      "execution_count": null,
      "outputs": []
    },
    {
      "cell_type": "code",
      "source": [],
      "metadata": {
        "id": "IQ0-Jzj9wP1o"
      },
      "execution_count": null,
      "outputs": []
    },
    {
      "cell_type": "code",
      "source": [],
      "metadata": {
        "id": "JNxQzVuOwP4v"
      },
      "execution_count": null,
      "outputs": []
    },
    {
      "cell_type": "code",
      "execution_count": null,
      "metadata": {
        "colab": {
          "base_uri": "https://localhost:8080/"
        },
        "id": "HFuM3qMd9JLK",
        "outputId": "ed0f8973-a1cb-4cc4-8dd2-d5b5e47122bb"
      },
      "outputs": [
        {
          "output_type": "stream",
          "name": "stdout",
          "text": [
            "multiprocessing started\n"
          ]
        },
        {
          "output_type": "stream",
          "name": "stderr",
          "text": [
            "Process Process-4:\n",
            "Traceback (most recent call last):\n"
          ]
        },
        {
          "output_type": "stream",
          "name": "stdout",
          "text": [
            "0.021900415420532227\n"
          ]
        },
        {
          "output_type": "stream",
          "name": "stderr",
          "text": [
            "Process Process-5:\n",
            "  File \"/usr/lib/python3.7/multiprocessing/process.py\", line 297, in _bootstrap\n",
            "    self.run()\n",
            "Process Process-6:\n",
            "  File \"/usr/lib/python3.7/multiprocessing/process.py\", line 99, in run\n",
            "    self._target(*self._args, **self._kwargs)\n",
            "Traceback (most recent call last):\n",
            "  File \"/usr/lib/python3.7/multiprocessing/process.py\", line 297, in _bootstrap\n",
            "    self.run()\n",
            "  File \"/usr/lib/python3.7/multiprocessing/process.py\", line 99, in run\n",
            "    self._target(*self._args, **self._kwargs)\n",
            "TypeError: func1() missing 1 required positional argument: 'numbers'\n",
            "TypeError: func3() missing 1 required positional argument: 'numbers'\n",
            "Traceback (most recent call last):\n",
            "  File \"/usr/lib/python3.7/multiprocessing/process.py\", line 297, in _bootstrap\n",
            "    self.run()\n",
            "  File \"/usr/lib/python3.7/multiprocessing/process.py\", line 99, in run\n",
            "    self._target(*self._args, **self._kwargs)\n",
            "TypeError: func2() missing 1 required positional argument: 'numbers'\n"
          ]
        }
      ],
      "source": [
        "import multiprocessing as mp \n",
        "import time \n",
        "\n",
        "\n",
        "results_a = []\n",
        "results_b = []\n",
        "results_c = []\n",
        "\n",
        "\n",
        "\n",
        "def func1(numbers):\n",
        "  for number in numbers:\n",
        "    results_a.append(math.sqrt( number**3))\n",
        "\n",
        "\n",
        "\n",
        "def func2(numbers):\n",
        "  for number in numbers:\n",
        "    results_b.append(math.sqrt( number**4))\n",
        "\n",
        "    \n",
        "def func3(numbers):\n",
        "  for number in numbers:\n",
        "    results_c.append(math.sqrt( number**5))\n",
        "\n",
        "\n",
        "\n",
        "if __name__ == '__main__':\n",
        "  \n",
        "  numberlist = list(range(5000))\n",
        "\n",
        "  print('multiprocessing started')\n",
        "\n",
        "\n",
        "  p1 = mp.Process(target = func1  )\n",
        "  p2 = mp.Process(target = func2 )\n",
        "  p3 = mp.Process(target = func3 )\n",
        "\n",
        "  \n",
        "  start = time.time()\n",
        "  p1.start()\n",
        "  p2.start()\n",
        "  p3.start()\n",
        "  end = time.time()\n",
        "\n",
        "\n",
        "  \n",
        "  print(end  - start )\n",
        "\n",
        "\n"
      ]
    },
    {
      "cell_type": "code",
      "source": [],
      "metadata": {
        "id": "2P3Q390pufqn"
      },
      "execution_count": null,
      "outputs": []
    },
    {
      "cell_type": "code",
      "source": [
        "print(results_a[0:10])"
      ],
      "metadata": {
        "colab": {
          "base_uri": "https://localhost:8080/"
        },
        "id": "M-2Axfhr_KUL",
        "outputId": "d6a10a0c-6eca-4b9a-ed5a-582743316f52"
      },
      "execution_count": null,
      "outputs": [
        {
          "output_type": "stream",
          "name": "stdout",
          "text": [
            "[0.0, 1.0, 2.8284271247461903, 5.196152422706632, 8.0, 11.180339887498949, 14.696938456699069, 18.520259177452136, 22.627416997969522, 27.0]\n"
          ]
        }
      ]
    },
    {
      "cell_type": "code",
      "source": [],
      "metadata": {
        "id": "dLAL6SFD-AMp"
      },
      "execution_count": null,
      "outputs": []
    },
    {
      "cell_type": "code",
      "source": [
        "response = {'t': 'tk',\n",
        "            'e': 'NFO',\n",
        "            'tk': '60691',\n",
        "            'ts': 'BANKNIFTY24NOV22C40300',\n",
        "            'pp': '2',\n",
        "            'ls': '25', \n",
        "            'ti': '0.05', \n",
        "            'lp': '2119.50', \n",
        "            'pc': '2.83',\n",
        "            'ft': '1669111200', \n",
        "            'o': '2105.00',\n",
        "            'h': '2155.00',\n",
        "            'l': '2078.60', \n",
        "            'c': '2061.15', \n",
        "            'ap': '2126.66', \n",
        "            'v': '300', \n",
        "            'oi': '7450',\n",
        "            'poi': '7500', \n",
        "            'bp1': '2203.75',\n",
        "            'sp1': '2215.35', \n",
        "            'bq1': '75', \n",
        "            'sq1': '175'}\n"
      ],
      "metadata": {
        "id": "SWuCwctswPnS"
      },
      "execution_count": null,
      "outputs": []
    }
  ]
}