{
  "nbformat": 4,
  "nbformat_minor": 0,
  "metadata": {
    "colab": {
      "provenance": [],
      "authorship_tag": "ABX9TyOXbxLEmv0UMcwH7EfGWJS2",
      "include_colab_link": true
    },
    "kernelspec": {
      "name": "python3",
      "display_name": "Python 3"
    },
    "language_info": {
      "name": "python"
    }
  },
  "cells": [
    {
      "cell_type": "markdown",
      "metadata": {
        "id": "view-in-github",
        "colab_type": "text"
      },
      "source": [
        "<a href=\"https://colab.research.google.com/github/akashwaf/finvasia01/blob/main/finvasia04.ipynb\" target=\"_parent\"><img src=\"https://colab.research.google.com/assets/colab-badge.svg\" alt=\"Open In Colab\"/></a>"
      ]
    },
    {
      "cell_type": "code",
      "execution_count": 4,
      "metadata": {
        "colab": {
          "base_uri": "https://localhost:8080/"
        },
        "id": "4crcVwUedH2r",
        "outputId": "78a6616f-b21e-463e-bf5a-43546eb365ee"
      },
      "outputs": [
        {
          "output_type": "stream",
          "name": "stdout",
          "text": [
            "fatal: destination path 'ShoonyaApi-py' already exists and is not an empty directory.\n",
            "Looking in indexes: https://pypi.org/simple, https://us-python.pkg.dev/colab-wheels/public/simple/\n",
            "Processing ./ShoonyaApi-py/dist/NorenRestApiPy-0.0.20-py2.py3-none-any.whl\n",
            "Requirement already satisfied: requests in /usr/local/lib/python3.7/dist-packages (from -r /content/ShoonyaApi-py/requirements.txt (line 1)) (2.23.0)\n",
            "Collecting websocket_client\n",
            "  Downloading websocket_client-1.4.2-py3-none-any.whl (55 kB)\n",
            "\u001b[K     |████████████████████████████████| 55 kB 2.1 MB/s \n",
            "\u001b[?25hRequirement already satisfied: pandas in /usr/local/lib/python3.7/dist-packages (from -r /content/ShoonyaApi-py/requirements.txt (line 4)) (1.3.5)\n",
            "Requirement already satisfied: pyyaml in /usr/local/lib/python3.7/dist-packages (from -r /content/ShoonyaApi-py/requirements.txt (line 5)) (6.0)\n",
            "Requirement already satisfied: certifi>=2017.4.17 in /usr/local/lib/python3.7/dist-packages (from requests->-r /content/ShoonyaApi-py/requirements.txt (line 1)) (2022.9.24)\n",
            "Requirement already satisfied: idna<3,>=2.5 in /usr/local/lib/python3.7/dist-packages (from requests->-r /content/ShoonyaApi-py/requirements.txt (line 1)) (2.10)\n",
            "Requirement already satisfied: chardet<4,>=3.0.2 in /usr/local/lib/python3.7/dist-packages (from requests->-r /content/ShoonyaApi-py/requirements.txt (line 1)) (3.0.4)\n",
            "Requirement already satisfied: urllib3!=1.25.0,!=1.25.1,<1.26,>=1.21.1 in /usr/local/lib/python3.7/dist-packages (from requests->-r /content/ShoonyaApi-py/requirements.txt (line 1)) (1.24.3)\n",
            "Requirement already satisfied: numpy>=1.17.3 in /usr/local/lib/python3.7/dist-packages (from pandas->-r /content/ShoonyaApi-py/requirements.txt (line 4)) (1.21.6)\n",
            "Requirement already satisfied: python-dateutil>=2.7.3 in /usr/local/lib/python3.7/dist-packages (from pandas->-r /content/ShoonyaApi-py/requirements.txt (line 4)) (2.8.2)\n",
            "Requirement already satisfied: pytz>=2017.3 in /usr/local/lib/python3.7/dist-packages (from pandas->-r /content/ShoonyaApi-py/requirements.txt (line 4)) (2022.6)\n",
            "Requirement already satisfied: six>=1.5 in /usr/local/lib/python3.7/dist-packages (from python-dateutil>=2.7.3->pandas->-r /content/ShoonyaApi-py/requirements.txt (line 4)) (1.15.0)\n",
            "Installing collected packages: websocket-client, NorenRestApiPy\n",
            "Successfully installed NorenRestApiPy-0.0.20 websocket-client-1.4.2\n",
            "Looking in indexes: https://pypi.org/simple, https://us-python.pkg.dev/colab-wheels/public/simple/\n",
            "Requirement already satisfied: pyotp in /usr/local/lib/python3.7/dist-packages (2.7.0)\n"
          ]
        }
      ],
      "source": [
        "!git clone https://github.com/Shoonya-Dev/ShoonyaApi-py.git\n",
        "!pip install -r /content/ShoonyaApi-py/requirements.txt\n",
        "!pip install pyotp"
      ]
    },
    {
      "cell_type": "code",
      "source": [
        "# nb_path = '/content/notebooks'\n",
        "\n",
        "# # include libarries that you want to install permanently \n",
        "\n",
        "\n",
        "# !pip install --target=$nb_path talib-binary   ## here change the name of module you want to install \n",
        "\n",
        "\n",
        "# !pip install --target=$nb_path -r /content/ShoonyaApi-py/requirements.txt\n",
        "\n",
        "# !pip install --target=$nb_path pyotp\n",
        "\n",
        "\n"
      ],
      "metadata": {
        "colab": {
          "base_uri": "https://localhost:8080/",
          "height": 1000
        },
        "id": "twV47JPme2hR",
        "outputId": "ce6e3203-c0bc-4176-c77d-fcf1339b93b3"
      },
      "execution_count": 13,
      "outputs": [
        {
          "output_type": "stream",
          "name": "stdout",
          "text": [
            "Looking in indexes: https://pypi.org/simple, https://us-python.pkg.dev/colab-wheels/public/simple/\n",
            "Collecting talib-binary\n",
            "  Using cached talib_binary-0.4.19-cp37-cp37m-manylinux1_x86_64.whl (2.4 MB)\n",
            "Collecting numpy\n",
            "  Using cached numpy-1.21.6-cp37-cp37m-manylinux_2_12_x86_64.manylinux2010_x86_64.whl (15.7 MB)\n",
            "Installing collected packages: numpy, talib-binary\n",
            "Successfully installed numpy-1.21.6 talib-binary-0.4.19\n",
            "\u001b[33mWARNING: Target directory /content/notebooks/talib already exists. Specify --upgrade to force replacement.\u001b[0m\n",
            "\u001b[33mWARNING: Target directory /content/notebooks/numpy.libs already exists. Specify --upgrade to force replacement.\u001b[0m\n",
            "\u001b[33mWARNING: Target directory /content/notebooks/numpy already exists. Specify --upgrade to force replacement.\u001b[0m\n",
            "\u001b[33mWARNING: Target directory /content/notebooks/numpy-1.21.6.dist-info already exists. Specify --upgrade to force replacement.\u001b[0m\n",
            "\u001b[33mWARNING: Target directory /content/notebooks/talib_binary-0.4.19.dist-info already exists. Specify --upgrade to force replacement.\u001b[0m\n",
            "\u001b[33mWARNING: Target directory /content/notebooks/bin already exists. Specify --upgrade to force replacement.\u001b[0m\n"
          ]
        },
        {
          "output_type": "display_data",
          "data": {
            "application/vnd.colab-display-data+json": {
              "pip_warning": {
                "packages": [
                  "numpy"
                ]
              }
            }
          },
          "metadata": {}
        },
        {
          "output_type": "stream",
          "name": "stdout",
          "text": [
            "Looking in indexes: https://pypi.org/simple, https://us-python.pkg.dev/colab-wheels/public/simple/\n",
            "Processing ./ShoonyaApi-py/dist/NorenRestApiPy-0.0.20-py2.py3-none-any.whl\n",
            "Collecting requests\n",
            "  Downloading requests-2.28.1-py3-none-any.whl (62 kB)\n",
            "\u001b[K     |████████████████████████████████| 62 kB 1.1 MB/s \n",
            "\u001b[?25hCollecting websocket_client\n",
            "  Using cached websocket_client-1.4.2-py3-none-any.whl (55 kB)\n",
            "Collecting pandas\n",
            "  Downloading pandas-1.3.5-cp37-cp37m-manylinux_2_17_x86_64.manylinux2014_x86_64.whl (11.3 MB)\n",
            "\u001b[K     |████████████████████████████████| 11.3 MB 9.9 MB/s \n",
            "\u001b[?25hCollecting pyyaml\n",
            "  Downloading PyYAML-6.0-cp37-cp37m-manylinux_2_5_x86_64.manylinux1_x86_64.manylinux_2_12_x86_64.manylinux2010_x86_64.whl (596 kB)\n",
            "\u001b[K     |████████████████████████████████| 596 kB 53.2 MB/s \n",
            "\u001b[?25hCollecting certifi>=2017.4.17\n",
            "  Downloading certifi-2022.9.24-py3-none-any.whl (161 kB)\n",
            "\u001b[K     |████████████████████████████████| 161 kB 49.7 MB/s \n",
            "\u001b[?25hCollecting urllib3<1.27,>=1.21.1\n",
            "  Downloading urllib3-1.26.12-py2.py3-none-any.whl (140 kB)\n",
            "\u001b[K     |████████████████████████████████| 140 kB 50.7 MB/s \n",
            "\u001b[?25hCollecting idna<4,>=2.5\n",
            "  Downloading idna-3.4-py3-none-any.whl (61 kB)\n",
            "\u001b[K     |████████████████████████████████| 61 kB 102 kB/s \n",
            "\u001b[?25hCollecting charset-normalizer<3,>=2\n",
            "  Downloading charset_normalizer-2.1.1-py3-none-any.whl (39 kB)\n",
            "Collecting pytz>=2017.3\n",
            "  Downloading pytz-2022.6-py2.py3-none-any.whl (498 kB)\n",
            "\u001b[K     |████████████████████████████████| 498 kB 54.7 MB/s \n",
            "\u001b[?25hCollecting python-dateutil>=2.7.3\n",
            "  Downloading python_dateutil-2.8.2-py2.py3-none-any.whl (247 kB)\n",
            "\u001b[K     |████████████████████████████████| 247 kB 46.9 MB/s \n",
            "\u001b[?25hCollecting numpy>=1.17.3\n",
            "  Using cached numpy-1.21.6-cp37-cp37m-manylinux_2_12_x86_64.manylinux2010_x86_64.whl (15.7 MB)\n",
            "Collecting six>=1.5\n",
            "  Downloading six-1.16.0-py2.py3-none-any.whl (11 kB)\n",
            "Installing collected packages: six, urllib3, pytz, python-dateutil, numpy, idna, charset-normalizer, certifi, websocket-client, requests, pyyaml, pandas, NorenRestApiPy\n",
            "\u001b[31mERROR: pip's dependency resolver does not currently take into account all the packages that are installed. This behaviour is the source of the following dependency conflicts.\n",
            "ipython 7.9.0 requires jedi>=0.10, which is not installed.\u001b[0m\n",
            "Successfully installed NorenRestApiPy-0.0.20 certifi-2022.9.24 charset-normalizer-2.1.1 idna-3.4 numpy-1.21.6 pandas-1.3.5 python-dateutil-2.8.2 pytz-2022.6 pyyaml-6.0 requests-2.28.1 six-1.16.0 urllib3-1.26.12 websocket-client-1.4.2\n",
            "\u001b[33mWARNING: Target directory /content/notebooks/numpy.libs already exists. Specify --upgrade to force replacement.\u001b[0m\n",
            "\u001b[33mWARNING: Target directory /content/notebooks/numpy already exists. Specify --upgrade to force replacement.\u001b[0m\n",
            "\u001b[33mWARNING: Target directory /content/notebooks/numpy-1.21.6.dist-info already exists. Specify --upgrade to force replacement.\u001b[0m\n",
            "\u001b[33mWARNING: Target directory /content/notebooks/bin already exists. Specify --upgrade to force replacement.\u001b[0m\n"
          ]
        },
        {
          "output_type": "display_data",
          "data": {
            "application/vnd.colab-display-data+json": {
              "pip_warning": {
                "packages": [
                  "NorenRestApiPy",
                  "certifi",
                  "dateutil",
                  "numpy",
                  "pandas",
                  "pytz",
                  "websocket"
                ]
              }
            }
          },
          "metadata": {}
        },
        {
          "output_type": "stream",
          "name": "stdout",
          "text": [
            "Looking in indexes: https://pypi.org/simple, https://us-python.pkg.dev/colab-wheels/public/simple/\n",
            "Collecting pyotp\n",
            "  Using cached pyotp-2.7.0-py3-none-any.whl (12 kB)\n",
            "Installing collected packages: pyotp\n",
            "Successfully installed pyotp-2.7.0\n",
            "\u001b[33mWARNING: Target directory /content/notebooks/pyotp already exists. Specify --upgrade to force replacement.\u001b[0m\n",
            "\u001b[33mWARNING: Target directory /content/notebooks/pyotp-2.7.0.dist-info already exists. Specify --upgrade to force replacement.\u001b[0m\n"
          ]
        },
        {
          "output_type": "display_data",
          "data": {
            "application/vnd.colab-display-data+json": {
              "pip_warning": {
                "packages": [
                  "pyotp"
                ]
              }
            }
          },
          "metadata": {}
        }
      ]
    },
    {
      "cell_type": "code",
      "source": [
        "if True:\n",
        "  from NorenRestApiPy.NorenApi import  NorenApi\n",
        "  from threading import Timer\n",
        "  import pandas as pd\n",
        "  import time\n",
        "  import concurrent.futures\n",
        "\n",
        "  api = None\n",
        "  class Order:\n",
        "      def __init__(self, buy_or_sell:str = None, product_type:str = None,\n",
        "                  exchange: str = None, tradingsymbol:str =None, \n",
        "                  price_type: str = None, quantity: int = None, \n",
        "                  price: float = None,trigger_price:float = None, discloseqty: int = 0,\n",
        "                  retention:str = 'DAY', remarks: str = \"tag\",\n",
        "                  order_id:str = None):\n",
        "          self.buy_or_sell=buy_or_sell\n",
        "          self.product_type=product_type\n",
        "          self.exchange=exchange\n",
        "          self.tradingsymbol=tradingsymbol\n",
        "          self.quantity=quantity\n",
        "          self.discloseqty=discloseqty\n",
        "          self.price_type=price_type\n",
        "          self.price=price\n",
        "          self.trigger_price=trigger_price\n",
        "          self.retention=retention\n",
        "          self.remarks=remarks\n",
        "          self.order_id=None\n",
        "\n",
        "\n",
        "      #print(ret)\n",
        "\n",
        "      \n",
        "\n",
        "\n",
        "  def get_time(time_string):\n",
        "      data = time.strptime(time_string,'%d-%m-%Y %H:%M:%S')\n",
        "\n",
        "      return time.mktime(data)\n",
        "\n",
        "\n",
        "  class ShoonyaApiPy(NorenApi):\n",
        "      def __init__(self):\n",
        "          NorenApi.__init__(self, host='https://api.shoonya.com/NorenWClientTP/', websocket='wss://api.shoonya.com/NorenWSTP/', eodhost='https://shoonya.finvasia.com/chartApi/getdata/')\n",
        "          global api\n",
        "          api = self\n",
        "\n",
        "      def place_basket(self, orders):\n",
        "\n",
        "          resp_err = 0\n",
        "          resp_ok  = 0\n",
        "          result   = []\n",
        "          with concurrent.futures.ThreadPoolExecutor(max_workers=10) as executor:\n",
        "\n",
        "              future_to_url = {executor.submit(self.place_order, order): order for order in  orders}\n",
        "              for future in concurrent.futures.as_completed(future_to_url):\n",
        "                  url = future_to_url[future]\n",
        "              try:\n",
        "                  result.append(future.result())\n",
        "              except Exception as exc:\n",
        "                  print(exc)\n",
        "                  resp_err = resp_err + 1\n",
        "              else:\n",
        "                  resp_ok = resp_ok + 1\n",
        "\n",
        "          return result\n",
        "                  \n",
        "      def placeOrder(self,order: Order):\n",
        "          ret = NorenApi.place_order(self, buy_or_sell=order.buy_or_sell, product_type=order.product_type,\n",
        "                              exchange=order.exchange, tradingsymbol=order.tradingsymbol, \n",
        "                              quantity=order.quantity, discloseqty=order.discloseqty, price_type=order.price_type, \n",
        "                              price=order.price, trigger_price=order.trigger_price,\n",
        "                              retention=order.retention, remarks=order.remarks)\n",
        "          #print(ret)\n",
        "\n",
        "          return ret\n"
      ],
      "metadata": {
        "id": "1V7Z8bYtdYPX"
      },
      "execution_count": 14,
      "outputs": []
    },
    {
      "cell_type": "code",
      "source": [
        "import pyotp\n",
        "\n",
        "import logging\n",
        "#enable dbug to see request and responses\n",
        "logging.basicConfig(level=logging.DEBUG)\n",
        "\n",
        "#start of our program\n",
        "api = ShoonyaApiPy()\n",
        "\n",
        "#credentials\n",
        "user        = 'FA13620'\n",
        "pwd       =  '2012Ak@sh'\n",
        "token =     \"52R5K462BA4H5TJ7SS746S5534364527\"\n",
        "factor2     =  pyotp.TOTP(token).now()\n",
        "vc          = 'FA13620_U'\n",
        "app_key     = '9088c808ac3522b35705a4acd8a46d03'\n",
        "imei        = 'abc1234'\n",
        "\n",
        "\n",
        "\n",
        "\n",
        "ret = api.login(userid=user, password=pwd, twoFA=factor2, vendor_code=vc, api_secret=app_key, imei=imei)\n",
        "\n",
        "\n",
        "print(factor2)\n",
        "\n",
        "print(ret)\n",
        "\n"
      ],
      "metadata": {
        "colab": {
          "base_uri": "https://localhost:8080/"
        },
        "id": "5yqogR6FdTA-",
        "outputId": "40ab020e-6a1e-4b9d-c433-94379a2a4ce5"
      },
      "execution_count": 15,
      "outputs": [
        {
          "output_type": "stream",
          "name": "stdout",
          "text": [
            "662097\n",
            "{'request_time': '18:19:48 16-11-2022', 'actid': 'FA13620', 'uname': 'AKASH RAJESHKUMAR PATEL', 'prarr': [{'prd': 'C', 's_prdt_ali': 'CNC', 'exch': ['NSE', 'BSE', 'NIPO']}, {'prd': 'M', 's_prdt_ali': 'NRML', 'exch': ['NFO', 'CDS', 'BCD', 'MCX']}, {'prd': 'I', 's_prdt_ali': 'MIS', 'exch': ['NSE', 'BSE', 'NFO', 'CDS', 'BCD', 'MCX']}, {'prd': 'H', 's_prdt_ali': 'CO', 'exch': ['NSE', 'NFO', 'CDS', 'MCX', 'BSE']}, {'prd': 'B', 's_prdt_ali': 'BO', 'exch': ['NSE', 'NFO', 'CDS', 'MCX', 'BSE']}], 'stat': 'Ok', 'susertoken': 'f0c2783fdd1cc125b052d9d963716efc0e6bca7b7f8a0afc47b24c48f072b615', 'email': 'AKSPMONEY1@GMAIL.COM', 'uid': 'FA13620', 'brnchid': 'HO', 'orarr': ['LMT', 'MKT', 'SL-LMT', 'SL-MKT'], 'exarr': ['NSE', 'NFO', 'CDS', 'MCX', 'BSE', 'BCD', 'NIPO'], 'values': ['1'], 'mws': {'1': [{'exch': 'NFO', 'token': '35048', 'tsym': 'NIFTY25JAN23F', 'dname': 'NIFTY JAN FUT', 'pp': '2', 'ls': '50', 'ti': '0.05'}, {'exch': 'NFO', 'token': '53395', 'tsym': 'NIFTY24NOV22F', 'dname': 'NIFTY NOV FUT', 'pp': '2', 'ls': '50', 'ti': '0.05'}, {'exch': 'MCX', 'token': '242244', 'tsym': 'CRUDEOIL18NOV22', 'pp': '2', 'ls': '100', 'ti': '1.00'}, {'exch': 'MCX', 'token': '294', 'tsym': 'CRUDEOIL', 'pp': '2', 'ls': '100', 'ti': '1.00'}, {'exch': 'MCX', 'token': '556', 'tsym': 'CRUDEOILM', 'pp': '2', 'ls': '10', 'ti': '1.00'}]}, 'brkname': 'FINV', 'lastaccesstime': '1668602988'}\n"
          ]
        }
      ]
    },
    {
      "cell_type": "code",
      "source": [],
      "metadata": {
        "id": "zGme_NlMfc10"
      },
      "execution_count": null,
      "outputs": []
    }
  ]
}