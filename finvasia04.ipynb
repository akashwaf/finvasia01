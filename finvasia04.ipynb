{
  "nbformat": 4,
  "nbformat_minor": 0,
  "metadata": {
    "colab": {
      "provenance": [],
      "authorship_tag": "ABX9TyNOzgKkwjhJOMwucYbpih7P",
      "include_colab_link": true
    },
    "kernelspec": {
      "name": "python3",
      "display_name": "Python 3"
    },
    "language_info": {
      "name": "python"
    }
  },
  "cells": [
    {
      "cell_type": "markdown",
      "metadata": {
        "id": "view-in-github",
        "colab_type": "text"
      },
      "source": [
        "<a href=\"https://colab.research.google.com/github/akashwaf/finvasia01/blob/main/finvasia04.ipynb\" target=\"_parent\"><img src=\"https://colab.research.google.com/assets/colab-badge.svg\" alt=\"Open In Colab\"/></a>"
      ]
    },
    {
      "cell_type": "code",
      "execution_count": 1,
      "metadata": {
        "id": "4crcVwUedH2r",
        "colab": {
          "base_uri": "https://localhost:8080/"
        },
        "outputId": "6ef5b2fc-5322-424e-d2ed-f2aa941e8119"
      },
      "outputs": [
        {
          "output_type": "stream",
          "name": "stdout",
          "text": [
            "Cloning into 'ShoonyaApi-py'...\n",
            "remote: Enumerating objects: 284, done.\u001b[K\n",
            "remote: Counting objects: 100% (284/284), done.\u001b[K\n",
            "remote: Compressing objects: 100% (131/131), done.\u001b[K\n",
            "remote: Total 284 (delta 151), reused 280 (delta 149), pack-reused 0\u001b[K\n",
            "Receiving objects: 100% (284/284), 275.41 KiB | 7.87 MiB/s, done.\n",
            "Resolving deltas: 100% (151/151), done.\n",
            "Looking in indexes: https://pypi.org/simple, https://us-python.pkg.dev/colab-wheels/public/simple/\n",
            "Requirement already satisfied: requests in /usr/local/lib/python3.7/dist-packages (2.23.0)\n",
            "Requirement already satisfied: urllib3!=1.25.0,!=1.25.1,<1.26,>=1.21.1 in /usr/local/lib/python3.7/dist-packages (from requests) (1.24.3)\n",
            "Requirement already satisfied: chardet<4,>=3.0.2 in /usr/local/lib/python3.7/dist-packages (from requests) (3.0.4)\n",
            "Requirement already satisfied: idna<3,>=2.5 in /usr/local/lib/python3.7/dist-packages (from requests) (2.10)\n",
            "Requirement already satisfied: certifi>=2017.4.17 in /usr/local/lib/python3.7/dist-packages (from requests) (2022.9.24)\n",
            "Looking in indexes: https://pypi.org/simple, https://us-python.pkg.dev/colab-wheels/public/simple/\n",
            "Collecting websocket_client\n",
            "  Downloading websocket_client-1.4.2-py3-none-any.whl (55 kB)\n",
            "\u001b[K     |████████████████████████████████| 55 kB 2.2 MB/s \n",
            "\u001b[?25hInstalling collected packages: websocket-client\n",
            "Successfully installed websocket-client-1.4.2\n",
            "Looking in indexes: https://pypi.org/simple, https://us-python.pkg.dev/colab-wheels/public/simple/\n",
            "Processing ./ShoonyaApi-py/dist/NorenRestApiPy-0.0.20-py2.py3-none-any.whl\n",
            "Installing collected packages: NorenRestApiPy\n",
            "Successfully installed NorenRestApiPy-0.0.20\n",
            "Looking in indexes: https://pypi.org/simple, https://us-python.pkg.dev/colab-wheels/public/simple/\n",
            "Requirement already satisfied: pyyaml in /usr/local/lib/python3.7/dist-packages (6.0)\n",
            "Looking in indexes: https://pypi.org/simple, https://us-python.pkg.dev/colab-wheels/public/simple/\n",
            "Collecting pyotp\n",
            "  Downloading pyotp-2.7.0-py3-none-any.whl (12 kB)\n",
            "Installing collected packages: pyotp\n",
            "Successfully installed pyotp-2.7.0\n"
          ]
        }
      ],
      "source": [
        "# run to install library temporarily \n",
        "\n",
        "!git clone https://github.com/Shoonya-Dev/ShoonyaApi-py.git\n",
        "\n",
        "# this are the libraries mentioned in requirements.txt\n",
        "!pip install requests\n",
        "!pip install websocket_client\n",
        "!pip install /content/ShoonyaApi-py/dist/NorenRestApiPy-0.0.20-py2.py3-none-any.whl\n",
        "!pip install pyyaml\n",
        "\n",
        "!pip install pyotp"
      ]
    },
    {
      "cell_type": "code",
      "source": [],
      "metadata": {
        "id": "xOjEjvDxl9Wc"
      },
      "execution_count": null,
      "outputs": []
    },
    {
      "cell_type": "code",
      "source": [
        "# #  to include libarries that you want to install permanently \n",
        "\n",
        "\n",
        "# nb_path = '/content/notebooks'\n",
        "\n",
        "# !pip install --target=$nb_path talib-binary   ## here change the name of module you want to install \n",
        "# !pip install --target=$nb_path -r /content/ShoonyaApi-py/requirements.txt\n",
        "# !pip install --target=$nb_path pyotp"
      ],
      "metadata": {
        "id": "twV47JPme2hR"
      },
      "execution_count": null,
      "outputs": []
    },
    {
      "cell_type": "code",
      "source": [
        "# # only need to run when open notebook again to fetch and import libraries \n",
        "# # run this after intsalling library permanently when you open again \n",
        "\n",
        "# from google.colab import drive\n",
        "# drive.mount('/content/gdrive')\n",
        "\n",
        "\n",
        "# import sys\n",
        "# sys.path.append('/content/gdrive/My Drive/Colab Notebooks')"
      ],
      "metadata": {
        "id": "3xgdd5oPtsT-"
      },
      "execution_count": null,
      "outputs": []
    },
    {
      "cell_type": "code",
      "source": [
        "if True:\n",
        "  from NorenRestApiPy.NorenApi import  NorenApi\n",
        "  from threading import Timer\n",
        "  import pandas as pd\n",
        "  import time\n",
        "  import concurrent.futures\n",
        "\n",
        "  api = None\n",
        "  class Order:\n",
        "      def __init__(self, buy_or_sell:str = None, product_type:str = None,\n",
        "                  exchange: str = None, tradingsymbol:str =None, \n",
        "                  price_type: str = None, quantity: int = None, \n",
        "                  price: float = None,trigger_price:float = None, discloseqty: int = 0,\n",
        "                  retention:str = 'DAY', remarks: str = \"tag\",\n",
        "                  order_id:str = None):\n",
        "          self.buy_or_sell=buy_or_sell\n",
        "          self.product_type=product_type\n",
        "          self.exchange=exchange\n",
        "          self.tradingsymbol=tradingsymbol\n",
        "          self.quantity=quantity\n",
        "          self.discloseqty=discloseqty\n",
        "          self.price_type=price_type\n",
        "          self.price=price\n",
        "          self.trigger_price=trigger_price\n",
        "          self.retention=retention\n",
        "          self.remarks=remarks\n",
        "          self.order_id=None\n",
        "\n",
        "\n",
        "      #print(ret)\n",
        "\n",
        "      \n",
        "\n",
        "\n",
        "  def get_time(time_string):\n",
        "      data = time.strptime(time_string,'%d-%m-%Y %H:%M:%S')\n",
        "\n",
        "      return time.mktime(data)\n",
        "\n",
        "\n",
        "  class ShoonyaApiPy(NorenApi):\n",
        "      def __init__(self):\n",
        "          NorenApi.__init__(self, host='https://api.shoonya.com/NorenWClientTP/', websocket='wss://api.shoonya.com/NorenWSTP/', eodhost='https://shoonya.finvasia.com/chartApi/getdata/')\n",
        "          global api\n",
        "          api = self\n",
        "\n",
        "      def place_basket(self, orders):\n",
        "\n",
        "          resp_err = 0\n",
        "          resp_ok  = 0\n",
        "          result   = []\n",
        "          with concurrent.futures.ThreadPoolExecutor(max_workers=10) as executor:\n",
        "\n",
        "              future_to_url = {executor.submit(self.place_order, order): order for order in  orders}\n",
        "              for future in concurrent.futures.as_completed(future_to_url):\n",
        "                  url = future_to_url[future]\n",
        "              try:\n",
        "                  result.append(future.result())\n",
        "              except Exception as exc:\n",
        "                  print(exc)\n",
        "                  resp_err = resp_err + 1\n",
        "              else:\n",
        "                  resp_ok = resp_ok + 1\n",
        "\n",
        "          return result\n",
        "                  \n",
        "      def placeOrder(self,order: Order):\n",
        "          ret = NorenApi.place_order(self, buy_or_sell=order.buy_or_sell, product_type=order.product_type,\n",
        "                              exchange=order.exchange, tradingsymbol=order.tradingsymbol, \n",
        "                              quantity=order.quantity, discloseqty=order.discloseqty, price_type=order.price_type, \n",
        "                              price=order.price, trigger_price=order.trigger_price,\n",
        "                              retention=order.retention, remarks=order.remarks)\n",
        "          #print(ret)\n",
        "\n",
        "          return ret\n"
      ],
      "metadata": {
        "id": "1V7Z8bYtdYPX"
      },
      "execution_count": 77,
      "outputs": []
    },
    {
      "cell_type": "code",
      "source": [
        "import pyotp\n",
        "\n",
        "import logging\n",
        "#enable dbug to see request and responses\n",
        "logging.basicConfig(level=logging.DEBUG)\n",
        "\n",
        "#start of our program\n",
        "api = ShoonyaApiPy()\n",
        "\n",
        "#credentials\n",
        "user        = 'FA13620'\n",
        "pwd       =  '2012Ak@sh'\n",
        "token =     \"52R5K462BA4H5TJ7SS746S5534364527\"\n",
        "factor2     =  pyotp.TOTP(token).now()\n",
        "vc          = 'FA13620_U'\n",
        "app_key     = '9088c808ac3522b35705a4acd8a46d03'\n",
        "imei        = 'abc1234'\n",
        "\n",
        "\n",
        "\n",
        "\n",
        "ret = api.login(userid=user, password=pwd, twoFA=factor2, vendor_code=vc, api_secret=app_key, imei=imei)\n",
        "\n",
        "\n",
        "print(factor2)\n",
        "\n",
        "print(ret)\n",
        "\n"
      ],
      "metadata": {
        "colab": {
          "base_uri": "https://localhost:8080/"
        },
        "id": "5yqogR6FdTA-",
        "outputId": "babdefa1-a068-427b-94f1-29facba2b1de"
      },
      "execution_count": 78,
      "outputs": [
        {
          "output_type": "stream",
          "name": "stdout",
          "text": [
            "616155\n",
            "{'request_time': '10:34:09 23-11-2022', 'actid': 'FA13620', 'uname': 'AKASH RAJESHKUMAR PATEL', 'prarr': [{'prd': 'C', 's_prdt_ali': 'CNC', 'exch': ['NSE', 'BSE', 'NIPO']}, {'prd': 'M', 's_prdt_ali': 'NRML', 'exch': ['NFO', 'CDS', 'BCD', 'MCX']}, {'prd': 'I', 's_prdt_ali': 'MIS', 'exch': ['NSE', 'BSE', 'NFO', 'CDS', 'BCD', 'MCX']}, {'prd': 'H', 's_prdt_ali': 'CO', 'exch': ['NSE', 'NFO', 'CDS', 'MCX', 'BSE']}, {'prd': 'B', 's_prdt_ali': 'BO', 'exch': ['NSE', 'NFO', 'CDS', 'MCX', 'BSE']}], 'stat': 'Ok', 'susertoken': '3c0be0b29faa5c7cec85a372d790c5a4d6054cf4966e42744a1ffc31f3ce9df1', 'email': 'AKSPMONEY1@GMAIL.COM', 'uid': 'FA13620', 'brnchid': 'HO', 'orarr': ['LMT', 'MKT', 'SL-LMT', 'SL-MKT'], 'exarr': ['NSE', 'NFO', 'CDS', 'MCX', 'BSE', 'BCD', 'NIPO'], 'values': ['1'], 'mws': {'1': [{'exch': 'NFO', 'token': '60793', 'tsym': 'BANKNIFTY24NOV22C42800', 'dname': 'BANKNIFTY 24NOV22 42800 CE ', 'pp': '2', 'ls': '25', 'ti': '0.05'}, {'exch': 'NFO', 'token': '60791', 'tsym': 'BANKNIFTY24NOV22C42700', 'dname': 'BANKNIFTY 24NOV22 42700 CE ', 'pp': '2', 'ls': '25', 'ti': '0.05'}]}, 'brkname': 'FINV', 'lastaccesstime': '1669179849'}\n"
          ]
        }
      ]
    },
    {
      "cell_type": "code",
      "source": [
        "import pandas as pd \n",
        "import pprint\n",
        "import time\n",
        "import warnings "
      ],
      "metadata": {
        "id": "3sCMKuV1x5SW"
      },
      "execution_count": 79,
      "outputs": []
    },
    {
      "cell_type": "code",
      "source": [
        "exch  = 'NFO'\n",
        "query = 'BANKNIFTY 24NOV CE' # multiple criteria to narrow results \n",
        "\n",
        "\n",
        "\n",
        "def get_atm ():  \n",
        "\n",
        "  # spot_price = int(input(\"enter spot price \"))\n",
        "  spot_price = 42700\n",
        "  print(int(round(spot_price  , -2)))\n",
        "\n",
        "\n",
        "\n",
        "\n",
        "  return spot_price \n",
        "\n",
        "atm_strike = get_atm ()\n",
        "total_strikes = 5\n",
        "\n",
        "\n",
        "option_chain = api.get_option_chain('NFO', 'BANKNIFTY24NOV22P42700', atm_strike, total_strikes)\n",
        "\n",
        "\n",
        "print(option_chain)"
      ],
      "metadata": {
        "colab": {
          "base_uri": "https://localhost:8080/"
        },
        "id": "vYPAH4irxFQG",
        "outputId": "ec7f8844-5c2d-4f6d-a489-c9483090b295"
      },
      "execution_count": 80,
      "outputs": [
        {
          "output_type": "stream",
          "name": "stdout",
          "text": [
            "42700\n",
            "{'stat': 'Ok', 'values': [{'exch': 'NFO', 'token': '60791', 'tsym': 'BANKNIFTY24NOV22C42700', 'optt': 'CE', 'pp': '2', 'ls': '25', 'ti': '0.05', 'strprc': '42700.00'}, {'exch': 'NFO', 'token': '60793', 'tsym': 'BANKNIFTY24NOV22C42800', 'optt': 'CE', 'pp': '2', 'ls': '25', 'ti': '0.05', 'strprc': '42800.00'}, {'exch': 'NFO', 'token': '60812', 'tsym': 'BANKNIFTY24NOV22C42900', 'optt': 'CE', 'pp': '2', 'ls': '25', 'ti': '0.05', 'strprc': '42900.00'}, {'exch': 'NFO', 'token': '60814', 'tsym': 'BANKNIFTY24NOV22C43000', 'optt': 'CE', 'pp': '2', 'ls': '25', 'ti': '0.05', 'strprc': '43000.00'}, {'exch': 'NFO', 'token': '38766', 'tsym': 'BANKNIFTY24NOV22C43100', 'optt': 'CE', 'pp': '2', 'ls': '25', 'ti': '0.05', 'strprc': '43100.00'}, {'exch': 'NFO', 'token': '60789', 'tsym': 'BANKNIFTY24NOV22C42600', 'optt': 'CE', 'pp': '2', 'ls': '25', 'ti': '0.05', 'strprc': '42600.00'}, {'exch': 'NFO', 'token': '60784', 'tsym': 'BANKNIFTY24NOV22C42500', 'optt': 'CE', 'pp': '2', 'ls': '25', 'ti': '0.05', 'strprc': '42500.00'}, {'exch': 'NFO', 'token': '60782', 'tsym': 'BANKNIFTY24NOV22C42400', 'optt': 'CE', 'pp': '2', 'ls': '25', 'ti': '0.05', 'strprc': '42400.00'}, {'exch': 'NFO', 'token': '60773', 'tsym': 'BANKNIFTY24NOV22C42300', 'optt': 'CE', 'pp': '2', 'ls': '25', 'ti': '0.05', 'strprc': '42300.00'}, {'exch': 'NFO', 'token': '60767', 'tsym': 'BANKNIFTY24NOV22C42200', 'optt': 'CE', 'pp': '2', 'ls': '25', 'ti': '0.05', 'strprc': '42200.00'}, {'exch': 'NFO', 'token': '60792', 'tsym': 'BANKNIFTY24NOV22P42700', 'optt': 'PE', 'pp': '2', 'ls': '25', 'ti': '0.05', 'strprc': '42700.00'}, {'exch': 'NFO', 'token': '60811', 'tsym': 'BANKNIFTY24NOV22P42800', 'optt': 'PE', 'pp': '2', 'ls': '25', 'ti': '0.05', 'strprc': '42800.00'}, {'exch': 'NFO', 'token': '60813', 'tsym': 'BANKNIFTY24NOV22P42900', 'optt': 'PE', 'pp': '2', 'ls': '25', 'ti': '0.05', 'strprc': '42900.00'}, {'exch': 'NFO', 'token': '60818', 'tsym': 'BANKNIFTY24NOV22P43000', 'optt': 'PE', 'pp': '2', 'ls': '25', 'ti': '0.05', 'strprc': '43000.00'}, {'exch': 'NFO', 'token': '38796', 'tsym': 'BANKNIFTY24NOV22P43100', 'optt': 'PE', 'pp': '2', 'ls': '25', 'ti': '0.05', 'strprc': '43100.00'}, {'exch': 'NFO', 'token': '60790', 'tsym': 'BANKNIFTY24NOV22P42600', 'optt': 'PE', 'pp': '2', 'ls': '25', 'ti': '0.05', 'strprc': '42600.00'}, {'exch': 'NFO', 'token': '60788', 'tsym': 'BANKNIFTY24NOV22P42500', 'optt': 'PE', 'pp': '2', 'ls': '25', 'ti': '0.05', 'strprc': '42500.00'}, {'exch': 'NFO', 'token': '60783', 'tsym': 'BANKNIFTY24NOV22P42400', 'optt': 'PE', 'pp': '2', 'ls': '25', 'ti': '0.05', 'strprc': '42400.00'}, {'exch': 'NFO', 'token': '60777', 'tsym': 'BANKNIFTY24NOV22P42300', 'optt': 'PE', 'pp': '2', 'ls': '25', 'ti': '0.05', 'strprc': '42300.00'}, {'exch': 'NFO', 'token': '60772', 'tsym': 'BANKNIFTY24NOV22P42200', 'optt': 'PE', 'pp': '2', 'ls': '25', 'ti': '0.05', 'strprc': '42200.00'}]}\n"
          ]
        }
      ]
    },
    {
      "cell_type": "code",
      "source": [
        "\n",
        "# warnings.simplefilter(\"ignore\")\n",
        "feed_opened = False\n",
        "feedJson = {}\n",
        "socket_opened = False\n",
        "orderJson = {}\n",
        "\n",
        "\n",
        "acknowledgement_data = {}\n",
        "ce_ack_data = {}\n",
        "pe_ack_data = {}\n",
        "\n",
        "tk_data = {}\n",
        "tf_data = {}\n",
        "dk_data = {}\n",
        "df_data = {}\n",
        "\n",
        "data_response_type = []\n",
        "\n",
        "\n",
        "api.close_websocket()\n",
        "\n",
        "\n",
        "\n",
        "\n",
        "\n",
        "\n",
        "def event_handler_feed_update(tick_data):\n",
        "    global feedJson\n",
        "    global data_response_type\n",
        "\n",
        "    global tk_data\n",
        "    global df_data\n",
        "    global tf_data\n",
        "    global dk_data\n",
        "    # print(tick_data)\n",
        "\n",
        "    # print('reached here also')\n",
        "\n",
        "    # if tick_data['t'] == 'tk':\n",
        "    #   print(tick_data['ts'],  tick_data['lp'])\n",
        "\n",
        "    #   feedJson[tick_data['tk']] = tick_data\n",
        "\n",
        "    \n",
        "    if tick_data['t'] == 'tk':\n",
        "      \n",
        "      tk_data[tick_data['tk']] = tick_data\n",
        "      \n",
        "      print(tick_data['ts'],  tick_data['lp'])\n",
        "\n",
        "\n",
        "\n",
        "    if tick_data['t'] == 'dk':\n",
        "      \n",
        "      dk_data[tick_data['tk']] = tick_data\n",
        "\n",
        "      print(tick_data['ts'],  tick_data['lp'])\n",
        "\n",
        "    \n",
        "    if tick_data['t'] == 'tf':\n",
        "      \n",
        "      tf_data[tick_data['tk']] = tick_data\n",
        "      print(tick_data['ts'],  tick_data['lp'])\n",
        "\n",
        "\n",
        "    \n",
        "    if tick_data['t'] == 'df':\n",
        "      \n",
        "      df_data[tick_data['tk']] = tick_data\n",
        "\n",
        "      print(tick_data['ts'],  tick_data['lp'])\n",
        "\n",
        "   \n",
        "    if tick_data['t'] not in data_response_type :\n",
        "      \n",
        "      data_response_type.append(tick_data['t'])\n",
        "    \n",
        "    # if 't' in tick_data:\n",
        "\n",
        "    #   # feedJson[tick_data['token']]  = tick_data ['lp']\n",
        "\n",
        "def event_handler_order_update(order_data):\n",
        "    print('orderupdate')\n",
        "    print(order_data)\n",
        "\n",
        "def open_callback():\n",
        "    global feed_opened\n",
        "    feed_opened = True\n",
        "\n",
        "\n",
        "def close_callback():\n",
        "    global feed_opened\n",
        "    # feed_opened = False\n",
        "\n",
        "def setupWebSocket() :\n",
        "  global fee_opened\n",
        "  \n",
        "  api.start_websocket( order_update_callback=event_handler_order_update,\n",
        "                     subscribe_callback=event_handler_feed_update, \n",
        "                     socket_open_callback= open_callback,\n",
        "                      socket_close_callback = close_callback)\n",
        "\n",
        "  time.sleep(1)\n",
        "  \n",
        "  while(feed_opened==False):\n",
        "      # print('here only')\n",
        "      pass\n",
        "\n",
        "\n",
        "  return True \n",
        "\n",
        "\n",
        "setupWebSocket()\n",
        "\n",
        "\n"
      ],
      "metadata": {
        "colab": {
          "base_uri": "https://localhost:8080/"
        },
        "id": "pxjOL4_VZ_h-",
        "outputId": "244f01c1-a9b8-403f-b9db-8a4b09489233"
      },
      "execution_count": 252,
      "outputs": [
        {
          "output_type": "stream",
          "name": "stderr",
          "text": [
            "WARNING:websocket:websocket connected\n"
          ]
        },
        {
          "output_type": "execute_result",
          "data": {
            "text/plain": [
              "True"
            ]
          },
          "metadata": {},
          "execution_count": 252
        }
      ]
    },
    {
      "cell_type": "code",
      "source": [
        "\n",
        "# api.unsubscribe('NSE|13')\n",
        "# subscribe to a single token \n",
        "# subs = api.subscribe(['NFO|60791'], feed_type='d')\n",
        "\n",
        "# api.subscribe(['NFO|60793'], feed_type='d')\n",
        "\n",
        "# api.subscribe(['NFO|60812'], feed_type='d')\n",
        "\n",
        "ready_to_subscribe = ['NFO|60691', 'NFO|60693', 'NFO|60695', 'NFO|60697', 'NFO|60699', 'NFO|60701', 'NFO|60710', 'NFO|60712', 'NFO|60714', 'NFO|60716', 'NFO|60720', 'NFO|60729', 'NFO|60731', 'NFO|60733', 'NFO|60743', 'NFO|60745', 'NFO|60747', 'NFO|60752', 'NFO|60761', 'NFO|60767', 'NFO|60773', 'NFO|60782', 'NFO|60784', 'NFO|60789', 'NFO|60791', 'NFO|60793', 'NFO|60812', 'NFO|60814', 'NFO|38766', 'NFO|38799', 'NFO|38802', 'NFO|38804', 'NFO|60819', 'NFO|42826', 'NFO|42828', 'NFO|42833', 'NFO|46495', 'NFO|60839', 'NFO|47543', 'NFO|47547', 'NFO|39015', 'NFO|39021', 'NFO|60842', 'NFO|46004', 'NFO|51010', 'NFO|51028', 'NFO|51030', 'NFO|60848', 'NFO|45300', 'NFO|45316', 'NFO|45318', 'NFO|45332', 'NFO|60860', 'NFO|45981', 'NFO|45987', 'NFO|36731', 'NFO|35019', 'NFO|60868', 'NFO|35033', 'NFO|52324', 'NFO|52326', 'NFO|52330', 'NFO|60872', 'NFO|60878', 'NFO|60880', 'NFO|60900', 'NFO|60902', 'NFO|60904', 'NFO|38812', 'NFO|42837', 'NFO|40572', 'NFO|51042', 'NFO|45342', 'NFO|36733', 'NFO|52332']\n",
        "\n",
        "\n",
        "ready_to_subscribe = ['NFO|60793']\n",
        "\n",
        "# api.close_websocket()\n",
        "# api.subscribe(ready_to_subscribe, feed_type='t')\n",
        "\n",
        "\n",
        "\n",
        "# api.subscribe()\n",
        "\n",
        "\n"
      ],
      "metadata": {
        "id": "oKGWS5OPmE3i"
      },
      "execution_count": 234,
      "outputs": []
    },
    {
      "cell_type": "code",
      "source": [
        "\n",
        "api.subscribe(ready_to_subscribe, feed_type='t')\n",
        "\n"
      ],
      "metadata": {
        "colab": {
          "base_uri": "https://localhost:8080/"
        },
        "id": "7rpTCml67Gzn",
        "outputId": "9b0ee005-2bf5-47e0-d4bd-b3ea6c9350fb"
      },
      "execution_count": 253,
      "outputs": [
        {
          "output_type": "stream",
          "name": "stderr",
          "text": [
            "ERROR:websocket:error from callback <bound method NorenApi.__on_data_callback of <__main__.ShoonyaApiPy object at 0x7f8e9b4b8050>>: 'ts'\n"
          ]
        }
      ]
    },
    {
      "cell_type": "code",
      "source": [
        "\n",
        "api.subscribe(ready_to_subscribe, feed_type='d')\n"
      ],
      "metadata": {
        "colab": {
          "base_uri": "https://localhost:8080/"
        },
        "id": "WvM74aWZKFKk",
        "outputId": "961f4cfc-b5cc-4adf-f5f3-4b3c39caed32"
      },
      "execution_count": 258,
      "outputs": [
        {
          "output_type": "stream",
          "name": "stderr",
          "text": [
            "ERROR:websocket:error from callback <bound method NorenApi.__on_data_callback of <__main__.ShoonyaApiPy object at 0x7f8e9b4b8050>>: 'ts'\n"
          ]
        },
        {
          "output_type": "stream",
          "name": "stdout",
          "text": [
            "BANKNIFTY24NOV22C42800 58.15\n"
          ]
        },
        {
          "output_type": "stream",
          "name": "stderr",
          "text": [
            "ERROR:websocket:error from callback <bound method NorenApi.__on_data_callback of <__main__.ShoonyaApiPy object at 0x7f8e9b4b8050>>: 'ts'\n",
            "ERROR:websocket:error from callback <bound method NorenApi.__on_data_callback of <__main__.ShoonyaApiPy object at 0x7f8e9b4b8050>>: 'ts'\n",
            "ERROR:websocket:error from callback <bound method NorenApi.__on_data_callback of <__main__.ShoonyaApiPy object at 0x7f8e9b4b8050>>: 'ts'\n",
            "ERROR:websocket:error from callback <bound method NorenApi.__on_data_callback of <__main__.ShoonyaApiPy object at 0x7f8e9b4b8050>>: 'ts'\n"
          ]
        }
      ]
    },
    {
      "cell_type": "code",
      "source": [
        "\n",
        "api.subscribe(ready_to_subscribe, feed_type='k')"
      ],
      "metadata": {
        "id": "jSmJfNuvJ_5N"
      },
      "execution_count": 239,
      "outputs": []
    },
    {
      "cell_type": "code",
      "source": [
        "\n",
        "api.subscribe(ready_to_subscribe, feed_type='f')"
      ],
      "metadata": {
        "id": "ikI3nlHtI9Zz"
      },
      "execution_count": 248,
      "outputs": []
    },
    {
      "cell_type": "code",
      "source": [
        "# api.unsubscribe(ready_to_subscribe)\n",
        "\n",
        "api.subscribe(ready_to_subscribe)\n",
        "\n"
      ],
      "metadata": {
        "id": "cVWdSA7s5hPi"
      },
      "execution_count": 188,
      "outputs": []
    },
    {
      "cell_type": "code",
      "source": [
        "pprint.pprint( tk_data)\n",
        "pprint.pprint( dk_data)\n",
        "pprint.pprint( tf_data)\n",
        "pprint.pprint( df_data)"
      ],
      "metadata": {
        "colab": {
          "base_uri": "https://localhost:8080/"
        },
        "id": "ic3s5UYzBogY",
        "outputId": "5b55ec63-1675-4cef-fd89-76ecb3457a42"
      },
      "execution_count": 259,
      "outputs": [
        {
          "output_type": "stream",
          "name": "stdout",
          "text": [
            "{'60793': {'ap': '67.98',\n",
            "           'bp1': '59.00',\n",
            "           'bq1': '50',\n",
            "           'c': '46.70',\n",
            "           'e': 'NFO',\n",
            "           'ft': '1669184774',\n",
            "           'h': '88.00',\n",
            "           'l': '46.90',\n",
            "           'lp': '59.10',\n",
            "           'ls': '25',\n",
            "           'o': '79.75',\n",
            "           'oi': '3090650',\n",
            "           'pc': '26.55',\n",
            "           'poi': '1420700',\n",
            "           'pp': '2',\n",
            "           'sp1': '59.10',\n",
            "           'sq1': '25',\n",
            "           't': 'tk',\n",
            "           'ti': '0.05',\n",
            "           'tk': '60793',\n",
            "           'ts': 'BANKNIFTY24NOV22C42800',\n",
            "           'v': '26364875'}}\n",
            "{'60793': {'ap': '67.96',\n",
            "           'bo1': '5',\n",
            "           'bo2': '15',\n",
            "           'bo3': '111',\n",
            "           'bo4': '13',\n",
            "           'bo5': '9',\n",
            "           'bp1': '58.10',\n",
            "           'bp2': '58.05',\n",
            "           'bp3': '58.00',\n",
            "           'bp4': '57.95',\n",
            "           'bp5': '57.90',\n",
            "           'bq1': '175',\n",
            "           'bq2': '800',\n",
            "           'bq3': '15600',\n",
            "           'bq4': '1675',\n",
            "           'bq5': '775',\n",
            "           'c': '46.70',\n",
            "           'e': 'NFO',\n",
            "           'ft': '1669184843',\n",
            "           'h': '88.00',\n",
            "           'l': '46.90',\n",
            "           'lc': '0.05',\n",
            "           'lp': '58.15',\n",
            "           'ls': '25',\n",
            "           'ltq': '25',\n",
            "           'ltt': '11:57:23',\n",
            "           'o': '79.75',\n",
            "           'oi': '3100675',\n",
            "           'pc': '24.52',\n",
            "           'poi': '1420700',\n",
            "           'pp': '2',\n",
            "           'so1': '2',\n",
            "           'so2': '7',\n",
            "           'so3': '24',\n",
            "           'so4': '19',\n",
            "           'so5': '32',\n",
            "           'sp1': '58.20',\n",
            "           'sp2': '58.25',\n",
            "           'sp3': '58.30',\n",
            "           'sp4': '58.35',\n",
            "           'sp5': '58.40',\n",
            "           'sq1': '50',\n",
            "           'sq2': '175',\n",
            "           'sq3': '950',\n",
            "           'sq4': '925',\n",
            "           'sq5': '1325',\n",
            "           't': 'dk',\n",
            "           'tbq': '253150',\n",
            "           'ti': '0.05',\n",
            "           'tk': '60793',\n",
            "           'ts': 'BANKNIFTY24NOV22C42800',\n",
            "           'tsq': '566800',\n",
            "           'uc': '902.50',\n",
            "           'v': '26427400'}}\n",
            "{'60793': {'bp1': '58.10',\n",
            "           'bq1': '100',\n",
            "           'e': 'NFO',\n",
            "           'ft': '1669184846',\n",
            "           'lp': '58.10',\n",
            "           'pc': '24.41',\n",
            "           'sp1': '58.20',\n",
            "           'sq1': '25',\n",
            "           't': 'tf',\n",
            "           'tk': '60793',\n",
            "           'v': '26432400'}}\n",
            "{'60793': {'bo1': '1',\n",
            "           'bo2': '12',\n",
            "           'bo3': '117',\n",
            "           'bo4': '13',\n",
            "           'bo5': '10',\n",
            "           'bp1': '58.10',\n",
            "           'bp2': '58.05',\n",
            "           'bp3': '58.00',\n",
            "           'bp4': '57.95',\n",
            "           'bp5': '57.90',\n",
            "           'bq1': '100',\n",
            "           'bq2': '375',\n",
            "           'bq3': '16050',\n",
            "           'bq4': '1200',\n",
            "           'bq5': '975',\n",
            "           'e': 'NFO',\n",
            "           'ft': '1669184846',\n",
            "           'lp': '58.10',\n",
            "           'ltq': '50',\n",
            "           'ltt': '11:57:26',\n",
            "           'pc': '24.41',\n",
            "           'so1': '1',\n",
            "           'so2': '21',\n",
            "           'so3': '10',\n",
            "           'so4': '25',\n",
            "           'so5': '42',\n",
            "           'sp1': '58.20',\n",
            "           'sp2': '58.25',\n",
            "           'sp3': '58.30',\n",
            "           'sp4': '58.35',\n",
            "           'sp5': '58.40',\n",
            "           'sq1': '25',\n",
            "           'sq2': '575',\n",
            "           'sq3': '725',\n",
            "           'sq4': '1225',\n",
            "           'sq5': '1550',\n",
            "           't': 'df',\n",
            "           'tbq': '252925',\n",
            "           'tk': '60793',\n",
            "           'tsq': '568000',\n",
            "           'v': '26432400'}}\n"
          ]
        }
      ]
    },
    {
      "cell_type": "code",
      "source": [
        "pprint.pprint( tk_data['60793']['lp'])\n",
        "pprint.pprint( dk_data['60793']['lp'])\n",
        "\n",
        "# pprint.pprint( tf_data['60793']['lp'])\n",
        "# pprint.pprint( dk_data['60793']['lp'])"
      ],
      "metadata": {
        "colab": {
          "base_uri": "https://localhost:8080/",
          "height": 252
        },
        "id": "aZ3dvfa9CCaG",
        "outputId": "d7f11734-91e8-42f7-ab20-209080af4f33"
      },
      "execution_count": 192,
      "outputs": [
        {
          "output_type": "stream",
          "name": "stdout",
          "text": [
            "'63.20'\n",
            "'61.85'\n"
          ]
        },
        {
          "output_type": "error",
          "ename": "KeyError",
          "evalue": "ignored",
          "traceback": [
            "\u001b[0;31m---------------------------------------------------------------------------\u001b[0m",
            "\u001b[0;31mKeyError\u001b[0m                                  Traceback (most recent call last)",
            "\u001b[0;32m<ipython-input-192-6d4ec55d376e>\u001b[0m in \u001b[0;36m<module>\u001b[0;34m\u001b[0m\n\u001b[1;32m      2\u001b[0m \u001b[0mpprint\u001b[0m\u001b[0;34m.\u001b[0m\u001b[0mpprint\u001b[0m\u001b[0;34m(\u001b[0m \u001b[0mdk_data\u001b[0m\u001b[0;34m[\u001b[0m\u001b[0;34m'60793'\u001b[0m\u001b[0;34m]\u001b[0m\u001b[0;34m[\u001b[0m\u001b[0;34m'lp'\u001b[0m\u001b[0;34m]\u001b[0m\u001b[0;34m)\u001b[0m\u001b[0;34m\u001b[0m\u001b[0;34m\u001b[0m\u001b[0m\n\u001b[1;32m      3\u001b[0m \u001b[0;34m\u001b[0m\u001b[0m\n\u001b[0;32m----> 4\u001b[0;31m \u001b[0mpprint\u001b[0m\u001b[0;34m.\u001b[0m\u001b[0mpprint\u001b[0m\u001b[0;34m(\u001b[0m \u001b[0mtf_data\u001b[0m\u001b[0;34m[\u001b[0m\u001b[0;34m'60793'\u001b[0m\u001b[0;34m]\u001b[0m\u001b[0;34m[\u001b[0m\u001b[0;34m'lp'\u001b[0m\u001b[0;34m]\u001b[0m\u001b[0;34m)\u001b[0m\u001b[0;34m\u001b[0m\u001b[0;34m\u001b[0m\u001b[0m\n\u001b[0m\u001b[1;32m      5\u001b[0m \u001b[0mpprint\u001b[0m\u001b[0;34m.\u001b[0m\u001b[0mpprint\u001b[0m\u001b[0;34m(\u001b[0m \u001b[0mdk_data\u001b[0m\u001b[0;34m[\u001b[0m\u001b[0;34m'60793'\u001b[0m\u001b[0;34m]\u001b[0m\u001b[0;34m[\u001b[0m\u001b[0;34m'lp'\u001b[0m\u001b[0;34m]\u001b[0m\u001b[0;34m)\u001b[0m\u001b[0;34m\u001b[0m\u001b[0;34m\u001b[0m\u001b[0m\n",
            "\u001b[0;31mKeyError\u001b[0m: '60793'"
          ]
        }
      ]
    },
    {
      "cell_type": "code",
      "source": [],
      "metadata": {
        "id": "DXRuF-5nDnLj"
      },
      "execution_count": null,
      "outputs": []
    },
    {
      "cell_type": "code",
      "source": [
        "api.subscribe(ready_to_subscribe, feed_type='f')\n",
        "# api.subscribe(ready_to_subscribe, feed_type='dk')\n"
      ],
      "metadata": {
        "colab": {
          "base_uri": "https://localhost:8080/"
        },
        "id": "2newD7VR5ncq",
        "outputId": "de6aa422-d6dc-4ed9-8aed-6c251dea8b40"
      },
      "execution_count": 162,
      "outputs": [
        {
          "output_type": "stream",
          "name": "stderr",
          "text": [
            "ERROR:websocket:error from callback <bound method NorenApi.__on_data_callback of <__main__.ShoonyaApiPy object at 0x7f8e9b4b8050>>: 'ts'\n",
            "ERROR:websocket:error from callback <bound method NorenApi.__on_data_callback of <__main__.ShoonyaApiPy object at 0x7f8e9b4b8050>>: 'ts'\n"
          ]
        }
      ]
    },
    {
      "cell_type": "code",
      "source": [
        "api.close_websocket()"
      ],
      "metadata": {
        "id": "y3us_CbwmSfJ"
      },
      "execution_count": 260,
      "outputs": []
    },
    {
      "cell_type": "code",
      "source": [
        "pprint.pprint(feedJson)\n",
        "\n",
        "print(data_response_type)"
      ],
      "metadata": {
        "colab": {
          "base_uri": "https://localhost:8080/"
        },
        "id": "BqVeV4oMtvPm",
        "outputId": "fd03e44c-9ae7-42f2-c83d-689a89cb1308"
      },
      "execution_count": 166,
      "outputs": [
        {
          "output_type": "stream",
          "name": "stdout",
          "text": [
            "{}\n",
            "['tk', 'dk']\n"
          ]
        }
      ]
    },
    {
      "cell_type": "code",
      "source": [
        "print(len(feedJson))\n",
        "\n",
        "print(len(ready_to_subscribe))"
      ],
      "metadata": {
        "colab": {
          "base_uri": "https://localhost:8080/"
        },
        "id": "Pgfetqa3ut9o",
        "outputId": "fd3271ee-cac7-4a56-d715-189cac18070b"
      },
      "execution_count": 46,
      "outputs": [
        {
          "output_type": "stream",
          "name": "stdout",
          "text": [
            "75\n",
            "75\n"
          ]
        }
      ]
    },
    {
      "cell_type": "code",
      "source": [
        "# for i in range(0, 1000000): \n",
        "#   time.sleep(1)\n",
        "\n",
        "#   print(feedJson)\n",
        "\n",
        "\n",
        "\n",
        "\n",
        "#     # print('lp')\n",
        "\n",
        "#   # print(feedJson)\n"
      ],
      "metadata": {
        "id": "oK596hLVwvys"
      },
      "execution_count": null,
      "outputs": []
    },
    {
      "cell_type": "code",
      "source": [
        "subscribe_token = [60691, 60693, 60695, 60697, 60699, 60701, 60710, 60712, 60714, 60716, 60720, 60729, 60731, 60733, 60743, 60745, 60747, 60752, 60761, 60767, 60773, 60782, 60784, 60789, 60791, 60793, 60812, 60814, 38766, 38799, 38802, 38804, 60819, 42826, 42828, 42833, 46495, 60839, 47543, 47547, 39015, 39021, 60842, 46004, 51010, 51028, 51030, 60848, 45300, 45316, 45318, 45332, 60860, 45981, 45987, 36731, 35019, 60868, 35033, 52324, 52326, 52330, 60872, 60878, 60880, 60900, 60902, 60904, 38812, 42837, 40572, 51042, 45342, 36733, 52332]\n",
        "ready_to_subscribe = []\n",
        "for i in subscribe_token:\n",
        "\n",
        "  ready_to_subscribe.append( 'NFO|'+str(i) )\n",
        "\n",
        "\n",
        "print(ready_to_subscribe)\n",
        "\n",
        "\n",
        "['NFO|60691', 'NFO|60693', 'NFO|60695', 'NFO|60697', 'NFO|60699', 'NFO|60701', 'NFO|60710', 'NFO|60712', 'NFO|60714', 'NFO|60716', 'NFO|60720', 'NFO|60729', 'NFO|60731', 'NFO|60733', 'NFO|60743', 'NFO|60745', 'NFO|60747', 'NFO|60752', 'NFO|60761', 'NFO|60767', 'NFO|60773', 'NFO|60782', 'NFO|60784', 'NFO|60789', 'NFO|60791', 'NFO|60793', 'NFO|60812', 'NFO|60814', 'NFO|38766', 'NFO|38799', 'NFO|38802', 'NFO|38804', 'NFO|60819', 'NFO|42826', 'NFO|42828', 'NFO|42833', 'NFO|46495', 'NFO|60839', 'NFO|47543', 'NFO|47547', 'NFO|39015', 'NFO|39021', 'NFO|60842', 'NFO|46004', 'NFO|51010', 'NFO|51028', 'NFO|51030', 'NFO|60848', 'NFO|45300', 'NFO|45316', 'NFO|45318', 'NFO|45332', 'NFO|60860', 'NFO|45981', 'NFO|45987', 'NFO|36731', 'NFO|35019', 'NFO|60868', 'NFO|35033', 'NFO|52324', 'NFO|52326', 'NFO|52330', 'NFO|60872', 'NFO|60878', 'NFO|60880', 'NFO|60900', 'NFO|60902', 'NFO|60904', 'NFO|38812', 'NFO|42837', 'NFO|40572', 'NFO|51042', 'NFO|45342', 'NFO|36733', 'NFO|52332']\n"
      ],
      "metadata": {
        "id": "iMkxdHLM7uhp"
      },
      "execution_count": null,
      "outputs": []
    },
    {
      "cell_type": "code",
      "source": [
        "api.unsubscribe(ready_to_subscribe , feed_type = 't')"
      ],
      "metadata": {
        "id": "PM2j7rmZDxze"
      },
      "execution_count": null,
      "outputs": []
    },
    {
      "cell_type": "code",
      "source": [
        "print('for')\n",
        "\n",
        "for i in range(0, 100):\n",
        "  time.sleep(1)\n",
        "  print('nothing') \n",
        "\n",
        "\n",
        "\n",
        "\n",
        "\n",
        "\n",
        "\n",
        "\n",
        "\n",
        "\n",
        "\n",
        "\n",
        "\n",
        "\n",
        "\n"
      ],
      "metadata": {
        "id": "8xZOn-3dvEy9"
      },
      "execution_count": null,
      "outputs": []
    },
    {
      "cell_type": "code",
      "source": [
        "token_df = pd.read_csv('https://shoonya.finvasia.com/NFO_symbols.txt.zip')"
      ],
      "metadata": {
        "id": "piu6g-bK4Eaf"
      },
      "execution_count": null,
      "outputs": []
    },
    {
      "cell_type": "code",
      "source": [
        "print(token_df)\n",
        "\n",
        "\n",
        "banknifty_token  = token_df [token_df['Symbol'] == 'BANKNIFTY']\n",
        "\n",
        "print(banknifty_token)\n",
        "\n",
        "\n",
        "banknifty_token  = banknifty_token [banknifty_token['Expiry'] == '24-NOV-2022']\n",
        "print(banknifty_token)\n",
        "print(len(banknifty_token))\n",
        "\n",
        "\n",
        "\n",
        "banknifty_token  = banknifty_token [banknifty_token['OptionType'] == 'CE']\n",
        "print(banknifty_token)\n",
        "print(len(banknifty_token))\n",
        "\n",
        "\n",
        "banknifty_token.sort_values(by =  'StrikePrice', inplace = True)\n",
        "print(banknifty_token)\n",
        "\n",
        "\n",
        "\n",
        "\n",
        "\n",
        "\n",
        "\n"
      ],
      "metadata": {
        "id": "3Qr3N1Ah4F5u"
      },
      "execution_count": null,
      "outputs": []
    },
    {
      "cell_type": "code",
      "source": [
        "print(banknifty_token[80:len(banknifty_token)])\n",
        "\n",
        "subscribed_tokens = banknifty_token[80:len(banknifty_token)]['Token'].tolist()"
      ],
      "metadata": {
        "id": "MhLbEYaz32cb",
        "colab": {
          "base_uri": "https://localhost:8080/"
        },
        "outputId": "a096a655-5ca9-44d0-cb1f-6fda6a9fe707"
      },
      "execution_count": null,
      "outputs": [
        {
          "output_type": "stream",
          "name": "stderr",
          "text": [
            "WARNING:NorenRestApiPy.NorenApi:websocket run forever ended in exception, socket is already opened\n"
          ]
        }
      ]
    },
    {
      "cell_type": "code",
      "source": [
        "print(subscribed_tokens)\n",
        "60691, 60693, 60695, 60697, 60699, 60701, 60710, 60712, 60714, 60716, 60720, 60729, 60731, 60733, 60743, 60745, 60747, 60752, 60761, 60767, 60773, 60782, 60784, 60789, 60791, 60793, 60812, 60814, 38766, 38799, 38802, 38804, 60819, 42826, 42828, 42833, 46495, 60839, 47543, 47547, 39015, 39021, 60842, 46004, 51010, 51028, 51030, 60848, 45300, 45316, 45318, 45332, 60860, 45981, 45987, 36731, 35019, 60868, 35033, 52324, 52326, 52330, 60872, 60878, 60880, 60900, 60902, 60904, 38812, 42837, 40572, 51042, 45342, 36733, 52332]\n"
      ],
      "metadata": {
        "id": "IkTKvCaT67SS"
      },
      "execution_count": null,
      "outputs": []
    },
    {
      "cell_type": "code",
      "source": [
        "token_list = banknifty_token['Token'].tolist()\n",
        "\n",
        "print(token_list)\n",
        "\n",
        "\n",
        "\n",
        "\n",
        "def get_atm_token_df(banknifty_token, atm_strike):\n",
        "\n",
        "\n",
        "  for i in banknifty_token.index:\n",
        "\n",
        "\n",
        "    if banknifty_token['StrikePrice'][i] == atm_strike:\n",
        "      print(atm_strike, 'this is atm' , banknifty_token['StrikePrice'][i])\n",
        "\n",
        "\n",
        "\n",
        "\n",
        "get_atm_token_df (banknifty_token, atm_strike)\n",
        "\n",
        "\n",
        "\n",
        "\n",
        "\n",
        "\n"
      ],
      "metadata": {
        "id": "nz0bYwpR-6h3",
        "colab": {
          "base_uri": "https://localhost:8080/"
        },
        "outputId": "00e545c6-95a5-45c5-b4ee-19975388e65e"
      },
      "execution_count": null,
      "outputs": [
        {
          "output_type": "stream",
          "name": "stderr",
          "text": [
            "WARNING:NorenRestApiPy.NorenApi:websocket run forever ended in exception, socket is already opened\n"
          ]
        }
      ]
    }
  ]
}